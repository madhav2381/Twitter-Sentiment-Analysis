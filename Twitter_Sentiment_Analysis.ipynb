{
  "nbformat": 4,
  "nbformat_minor": 0,
  "metadata": {
    "colab": {
      "name": "Twitter_Sentiment_Analysis.ipynb",
      "provenance": [],
      "collapsed_sections": [],
      "toc_visible": true,
      "include_colab_link": true
    },
    "kernelspec": {
      "name": "python3",
      "display_name": "Python 3"
    },
    "language_info": {
      "name": "python"
    },
    "accelerator": "GPU"
  },
  "cells": [
    {
      "cell_type": "markdown",
      "metadata": {
        "id": "view-in-github",
        "colab_type": "text"
      },
      "source": [
        "<a href=\"https://colab.research.google.com/github/madhav2381/Twitter-Sentiment-Analysis/blob/main/Twitter_Sentiment_Analysis.ipynb\" target=\"_parent\"><img src=\"https://colab.research.google.com/assets/colab-badge.svg\" alt=\"Open In Colab\"/></a>"
      ]
    },
    {
      "cell_type": "code",
      "metadata": {
        "colab": {
          "base_uri": "https://localhost:8080/"
        },
        "id": "j8wAuGmZ2lEs",
        "outputId": "04ae1baf-e05c-4b88-9acf-153fb57c1542"
      },
      "source": [
        "!pip install wordsegment\n",
        "!pip install autocorrect"
      ],
      "execution_count": null,
      "outputs": [
        {
          "output_type": "stream",
          "name": "stdout",
          "text": [
            "Collecting wordsegment\n",
            "  Downloading wordsegment-1.3.1-py2.py3-none-any.whl (4.8 MB)\n",
            "\u001b[K     |████████████████████████████████| 4.8 MB 24.2 MB/s \n",
            "\u001b[?25hInstalling collected packages: wordsegment\n",
            "Successfully installed wordsegment-1.3.1\n",
            "Collecting autocorrect\n",
            "  Downloading autocorrect-2.6.0.tar.gz (622 kB)\n",
            "\u001b[K     |████████████████████████████████| 622 kB 22.1 MB/s \n",
            "\u001b[?25hBuilding wheels for collected packages: autocorrect\n",
            "  Building wheel for autocorrect (setup.py) ... \u001b[?25l\u001b[?25hdone\n",
            "  Created wheel for autocorrect: filename=autocorrect-2.6.0-py3-none-any.whl size=622249 sha256=097650a95360fa5104f52f3cf208d066dee885ee423c96a59cb4fa36db2a4af0\n",
            "  Stored in directory: /root/.cache/pip/wheels/fa/ce/aa/bc894efbe0541ce91dea21561d01d319783986d9787a8e9f58\n",
            "Successfully built autocorrect\n",
            "Installing collected packages: autocorrect\n",
            "Successfully installed autocorrect-2.6.0\n"
          ]
        }
      ]
    },
    {
      "cell_type": "code",
      "metadata": {
        "id": "fjwyZrrkaeyq"
      },
      "source": [
        "import pandas as pd\n",
        "import numpy as np\n",
        "import tensorflow as tf\n",
        "from tensorflow import keras\n",
        "from keras.models import Sequential\n",
        "from keras.layers.normalization import batch_normalization\n",
        "from keras.layers import Activation, Dense, Dropout, Dropout, Flatten, BatchNormalization, Input, Embedding, Bidirectional, LSTM\n",
        "from keras.preprocessing import text, sequence\n",
        "from keras.preprocessing.sequence import pad_sequences\n",
        "from keras import utils\n",
        "from keras import backend as K\n",
        "from keras.models import *\n",
        "from keras.callbacks import ModelCheckpoint, ReduceLROnPlateau, EarlyStopping\n",
        "from keras.layers.convolutional import Conv2D, MaxPooling2D\n",
        "import bs4\n",
        "import nltk\n",
        "from sklearn.metrics import confusion_matrix\n",
        "from google.colab import files\n",
        "import warnings\n",
        "warnings.filterwarnings(\"ignore\")"
      ],
      "execution_count": null,
      "outputs": []
    },
    {
      "cell_type": "code",
      "metadata": {
        "colab": {
          "base_uri": "https://localhost:8080/"
        },
        "id": "5DPiclW_awXW",
        "outputId": "e050cbc0-12d8-44c8-b1a4-9fd45022404f"
      },
      "source": [
        "from google.colab import drive\n",
        "drive.mount('/content/drive', force_remount=True)"
      ],
      "execution_count": null,
      "outputs": [
        {
          "output_type": "stream",
          "name": "stdout",
          "text": [
            "Mounted at /content/drive\n"
          ]
        }
      ]
    },
    {
      "cell_type": "code",
      "metadata": {
        "colab": {
          "base_uri": "https://localhost:8080/"
        },
        "id": "rJawb9IWamHv",
        "outputId": "90e86834-18ee-4a36-8c0c-a5e5e090949b"
      },
      "source": [
        "!cp '/content/drive/MyDrive/training-Obama-Romney-tweets.rar' '/content'\n",
        "!unrar x 'training-Obama-Romney-tweets.rar'"
      ],
      "execution_count": null,
      "outputs": [
        {
          "output_type": "stream",
          "name": "stdout",
          "text": [
            "\n",
            "UNRAR 5.50 freeware      Copyright (c) 1993-2017 Alexander Roshal\n",
            "\n",
            "\n",
            "Extracting from training-Obama-Romney-tweets.rar\n",
            "\n",
            "Extracting  training-Obama-Romney-tweets.xlsx                            \b\b\b\b 99%\b\b\b\b\b  OK \n",
            "All OK\n"
          ]
        }
      ]
    },
    {
      "cell_type": "code",
      "metadata": {
        "id": "BXMAAAy2au3O",
        "colab": {
          "base_uri": "https://localhost:8080/"
        },
        "outputId": "3550bea2-56d0-4f81-bf1d-5957d6908e50"
      },
      "source": [
        "data = pd.read_excel(\"/content/training-Obama-Romney-tweets.xlsx\", sheet_name = ['Obama', 'Romney'])\n",
        "data.keys()"
      ],
      "execution_count": null,
      "outputs": [
        {
          "output_type": "execute_result",
          "data": {
            "text/plain": [
              "dict_keys(['Obama', 'Romney'])"
            ]
          },
          "metadata": {},
          "execution_count": 5
        }
      ]
    },
    {
      "cell_type": "code",
      "metadata": {
        "id": "GJqHSUUDqatN"
      },
      "source": [
        "d1 = data['Obama']\n",
        "d2 = data['Romney']"
      ],
      "execution_count": null,
      "outputs": []
    },
    {
      "cell_type": "code",
      "metadata": {
        "colab": {
          "base_uri": "https://localhost:8080/",
          "height": 310
        },
        "id": "ImARKhKloXLP",
        "outputId": "fae145a3-0a0f-49c9-a4c7-c5f82343326b"
      },
      "source": [
        "d1.head()"
      ],
      "execution_count": null,
      "outputs": [
        {
          "output_type": "execute_result",
          "data": {
            "text/html": [
              "<div>\n",
              "<style scoped>\n",
              "    .dataframe tbody tr th:only-of-type {\n",
              "        vertical-align: middle;\n",
              "    }\n",
              "\n",
              "    .dataframe tbody tr th {\n",
              "        vertical-align: top;\n",
              "    }\n",
              "\n",
              "    .dataframe thead th {\n",
              "        text-align: right;\n",
              "    }\n",
              "</style>\n",
              "<table border=\"1\" class=\"dataframe\">\n",
              "  <thead>\n",
              "    <tr style=\"text-align: right;\">\n",
              "      <th></th>\n",
              "      <th>Unnamed: 0</th>\n",
              "      <th>date</th>\n",
              "      <th>time</th>\n",
              "      <th>Anootated tweet</th>\n",
              "      <th>Unnamed: 4</th>\n",
              "      <th>Unnamed: 5</th>\n",
              "      <th>Unnamed: 6</th>\n",
              "    </tr>\n",
              "  </thead>\n",
              "  <tbody>\n",
              "    <tr>\n",
              "      <th>0</th>\n",
              "      <td>NaN</td>\n",
              "      <td>NaN</td>\n",
              "      <td>NaN</td>\n",
              "      <td>1: positive, -1: negative, 0: neutral, 2: mixed</td>\n",
              "      <td>Class</td>\n",
              "      <td>Your class</td>\n",
              "      <td>NaN</td>\n",
              "    </tr>\n",
              "    <tr>\n",
              "      <th>1</th>\n",
              "      <td>NaN</td>\n",
              "      <td>2012-10-16 00:00:00</td>\n",
              "      <td>10:28:53-05:00</td>\n",
              "      <td>Kirkpatrick, who wore a baseball cap embroider...</td>\n",
              "      <td>0</td>\n",
              "      <td>NaN</td>\n",
              "      <td>NaN</td>\n",
              "    </tr>\n",
              "    <tr>\n",
              "      <th>2</th>\n",
              "      <td>NaN</td>\n",
              "      <td>2016-12-10 00:00:00</td>\n",
              "      <td>10:09:00-05:00</td>\n",
              "      <td>Question: If &lt;e&gt;Romney&lt;/e&gt; and &lt;e&gt;Obama&lt;/e&gt; ha...</td>\n",
              "      <td>2</td>\n",
              "      <td>NaN</td>\n",
              "      <td>NaN</td>\n",
              "    </tr>\n",
              "    <tr>\n",
              "      <th>3</th>\n",
              "      <td>NaN</td>\n",
              "      <td>2012-10-16 00:00:00</td>\n",
              "      <td>10:04:30-05:00</td>\n",
              "      <td>#&lt;e&gt;obama&lt;/e&gt; debates that Cracker Ass Cracker...</td>\n",
              "      <td>1</td>\n",
              "      <td>NaN</td>\n",
              "      <td>NaN</td>\n",
              "    </tr>\n",
              "    <tr>\n",
              "      <th>4</th>\n",
              "      <td>NaN</td>\n",
              "      <td>2012-10-16 00:00:00</td>\n",
              "      <td>10:00:36-05:00</td>\n",
              "      <td>RT @davewiner Slate: Blame &lt;e&gt;Obama&lt;/e&gt; for fo...</td>\n",
              "      <td>2</td>\n",
              "      <td>NaN</td>\n",
              "      <td>NaN</td>\n",
              "    </tr>\n",
              "  </tbody>\n",
              "</table>\n",
              "</div>"
            ],
            "text/plain": [
              "   Unnamed: 0                 date  ...  Unnamed: 5 Unnamed: 6\n",
              "0         NaN                  NaN  ...  Your class        NaN\n",
              "1         NaN  2012-10-16 00:00:00  ...         NaN        NaN\n",
              "2         NaN  2016-12-10 00:00:00  ...         NaN        NaN\n",
              "3         NaN  2012-10-16 00:00:00  ...         NaN        NaN\n",
              "4         NaN  2012-10-16 00:00:00  ...         NaN        NaN\n",
              "\n",
              "[5 rows x 7 columns]"
            ]
          },
          "metadata": {},
          "execution_count": 7
        }
      ]
    },
    {
      "cell_type": "code",
      "metadata": {
        "colab": {
          "base_uri": "https://localhost:8080/",
          "height": 310
        },
        "id": "rJlbwgNLuv1A",
        "outputId": "5a444753-3892-41b8-e8f2-3125ab4ad312"
      },
      "source": [
        "d2.head()"
      ],
      "execution_count": null,
      "outputs": [
        {
          "output_type": "execute_result",
          "data": {
            "text/html": [
              "<div>\n",
              "<style scoped>\n",
              "    .dataframe tbody tr th:only-of-type {\n",
              "        vertical-align: middle;\n",
              "    }\n",
              "\n",
              "    .dataframe tbody tr th {\n",
              "        vertical-align: top;\n",
              "    }\n",
              "\n",
              "    .dataframe thead th {\n",
              "        text-align: right;\n",
              "    }\n",
              "</style>\n",
              "<table border=\"1\" class=\"dataframe\">\n",
              "  <thead>\n",
              "    <tr style=\"text-align: right;\">\n",
              "      <th></th>\n",
              "      <th>Unnamed: 0</th>\n",
              "      <th>date</th>\n",
              "      <th>time</th>\n",
              "      <th>Anootated tweet</th>\n",
              "      <th>Unnamed: 4</th>\n",
              "      <th>Unnamed: 5</th>\n",
              "      <th>Unnamed: 6</th>\n",
              "    </tr>\n",
              "  </thead>\n",
              "  <tbody>\n",
              "    <tr>\n",
              "      <th>0</th>\n",
              "      <td>NaN</td>\n",
              "      <td>NaN</td>\n",
              "      <td>NaN</td>\n",
              "      <td>1: positive, -1: negative, 0: neutral, 2: mixed</td>\n",
              "      <td>Class</td>\n",
              "      <td>Your class label</td>\n",
              "      <td>NaN</td>\n",
              "    </tr>\n",
              "    <tr>\n",
              "      <th>1</th>\n",
              "      <td>NaN</td>\n",
              "      <td>2012-10-16 00:00:00</td>\n",
              "      <td>09:38:08-05:00</td>\n",
              "      <td>Insidious!&lt;e&gt;Mitt Romney&lt;/e&gt;'s Bain Helped Phi...</td>\n",
              "      <td>-1</td>\n",
              "      <td>NaN</td>\n",
              "      <td>NaN</td>\n",
              "    </tr>\n",
              "    <tr>\n",
              "      <th>2</th>\n",
              "      <td>NaN</td>\n",
              "      <td>2012-10-16 00:00:00</td>\n",
              "      <td>10:22:34-05:00</td>\n",
              "      <td>Senior &lt;e&gt;Romney&lt;/e&gt; Advisor Claims &lt;e&gt;Obama&lt;/...</td>\n",
              "      <td>2</td>\n",
              "      <td>NaN</td>\n",
              "      <td>NaN</td>\n",
              "    </tr>\n",
              "    <tr>\n",
              "      <th>3</th>\n",
              "      <td>NaN</td>\n",
              "      <td>2012-10-16 00:00:00</td>\n",
              "      <td>10:14:18-05:00</td>\n",
              "      <td>.@WardBrenda @shortwave8669 @allanbourdius you...</td>\n",
              "      <td>-1</td>\n",
              "      <td>NaN</td>\n",
              "      <td>NaN</td>\n",
              "    </tr>\n",
              "    <tr>\n",
              "      <th>4</th>\n",
              "      <td>NaN</td>\n",
              "      <td>2012-10-16 00:00:00</td>\n",
              "      <td>09:27:16-05:00</td>\n",
              "      <td>&lt;e&gt;Mitt Romney&lt;/e&gt; still doesn't &lt;a&gt;believe&lt;/a...</td>\n",
              "      <td>-1</td>\n",
              "      <td>NaN</td>\n",
              "      <td>NaN</td>\n",
              "    </tr>\n",
              "  </tbody>\n",
              "</table>\n",
              "</div>"
            ],
            "text/plain": [
              "   Unnamed: 0                 date  ...        Unnamed: 5 Unnamed: 6\n",
              "0         NaN                  NaN  ...  Your class label        NaN\n",
              "1         NaN  2012-10-16 00:00:00  ...               NaN        NaN\n",
              "2         NaN  2012-10-16 00:00:00  ...               NaN        NaN\n",
              "3         NaN  2012-10-16 00:00:00  ...               NaN        NaN\n",
              "4         NaN  2012-10-16 00:00:00  ...               NaN        NaN\n",
              "\n",
              "[5 rows x 7 columns]"
            ]
          },
          "metadata": {},
          "execution_count": 8
        }
      ]
    },
    {
      "cell_type": "code",
      "metadata": {
        "id": "a2zB72Wmgo43"
      },
      "source": [
        "d1.drop(labels = ['Unnamed: 0', 'Unnamed: 5', 'Unnamed: 6', 'date','time'], axis=1, inplace=True)\n",
        "d2.drop(labels = ['Unnamed: 0', 'Unnamed: 5', 'Unnamed: 6','date','time'], axis=1, inplace=True)\n",
        "d1.drop(0, inplace=True)\n",
        "d2.drop(0, inplace=True)"
      ],
      "execution_count": null,
      "outputs": []
    },
    {
      "cell_type": "code",
      "metadata": {
        "id": "rjogfT0Zm8yj",
        "colab": {
          "base_uri": "https://localhost:8080/",
          "height": 206
        },
        "outputId": "54fc613f-211b-4aa1-8786-57edde159f91"
      },
      "source": [
        "train_data = d1.append(d2)\n",
        "train_data.head()"
      ],
      "execution_count": null,
      "outputs": [
        {
          "output_type": "execute_result",
          "data": {
            "text/html": [
              "<div>\n",
              "<style scoped>\n",
              "    .dataframe tbody tr th:only-of-type {\n",
              "        vertical-align: middle;\n",
              "    }\n",
              "\n",
              "    .dataframe tbody tr th {\n",
              "        vertical-align: top;\n",
              "    }\n",
              "\n",
              "    .dataframe thead th {\n",
              "        text-align: right;\n",
              "    }\n",
              "</style>\n",
              "<table border=\"1\" class=\"dataframe\">\n",
              "  <thead>\n",
              "    <tr style=\"text-align: right;\">\n",
              "      <th></th>\n",
              "      <th>Anootated tweet</th>\n",
              "      <th>Unnamed: 4</th>\n",
              "    </tr>\n",
              "  </thead>\n",
              "  <tbody>\n",
              "    <tr>\n",
              "      <th>1</th>\n",
              "      <td>Kirkpatrick, who wore a baseball cap embroider...</td>\n",
              "      <td>0</td>\n",
              "    </tr>\n",
              "    <tr>\n",
              "      <th>2</th>\n",
              "      <td>Question: If &lt;e&gt;Romney&lt;/e&gt; and &lt;e&gt;Obama&lt;/e&gt; ha...</td>\n",
              "      <td>2</td>\n",
              "    </tr>\n",
              "    <tr>\n",
              "      <th>3</th>\n",
              "      <td>#&lt;e&gt;obama&lt;/e&gt; debates that Cracker Ass Cracker...</td>\n",
              "      <td>1</td>\n",
              "    </tr>\n",
              "    <tr>\n",
              "      <th>4</th>\n",
              "      <td>RT @davewiner Slate: Blame &lt;e&gt;Obama&lt;/e&gt; for fo...</td>\n",
              "      <td>2</td>\n",
              "    </tr>\n",
              "    <tr>\n",
              "      <th>5</th>\n",
              "      <td>@Hollivan @hereistheanswer  Youre missing the ...</td>\n",
              "      <td>0</td>\n",
              "    </tr>\n",
              "  </tbody>\n",
              "</table>\n",
              "</div>"
            ],
            "text/plain": [
              "                                     Anootated tweet Unnamed: 4\n",
              "1  Kirkpatrick, who wore a baseball cap embroider...          0\n",
              "2  Question: If <e>Romney</e> and <e>Obama</e> ha...          2\n",
              "3  #<e>obama</e> debates that Cracker Ass Cracker...          1\n",
              "4  RT @davewiner Slate: Blame <e>Obama</e> for fo...          2\n",
              "5  @Hollivan @hereistheanswer  Youre missing the ...          0"
            ]
          },
          "metadata": {},
          "execution_count": 10
        }
      ]
    },
    {
      "cell_type": "code",
      "metadata": {
        "id": "B95v0-1GjHUF"
      },
      "source": [
        "train_data.rename(columns = {'Anootated tweet' : 'Annotated tweet', 'Unnamed: 4': 'class'}, inplace = True)\n",
        "#d2.rename(columns = {'Anootated tweet' : 'Annotated tweet', 'Unnamed: 4': 'class'}, inplace = True)"
      ],
      "execution_count": null,
      "outputs": []
    },
    {
      "cell_type": "code",
      "metadata": {
        "id": "zgtZRGBFmeIk"
      },
      "source": [
        "train_data.dropna(how='any',subset = ['Annotated tweet', 'class'],inplace =True)\n",
        "#d2.dropna(how='any',subset = ['Annotated tweet', 'class'],inplace =True)"
      ],
      "execution_count": null,
      "outputs": []
    },
    {
      "cell_type": "code",
      "metadata": {
        "id": "Phe31j5z6-pJ"
      },
      "source": [
        "train_data = train_data[(train_data['class'] == 1) | (train_data['class'] == 0) | (train_data['class'] == -1) | (train_data['class'] == '1') | (train_data['class'] == '0') | (train_data['class'] == '-1')]"
      ],
      "execution_count": null,
      "outputs": []
    },
    {
      "cell_type": "code",
      "metadata": {
        "id": "dzj2zngW4DWZ"
      },
      "source": [
        "train_data['class'] = train_data['class'].astype('int64')"
      ],
      "execution_count": null,
      "outputs": []
    },
    {
      "cell_type": "code",
      "metadata": {
        "colab": {
          "base_uri": "https://localhost:8080/"
        },
        "id": "onT5_WnQoTgA",
        "outputId": "7d052c5b-68aa-422a-9644-525d8a4ea389"
      },
      "source": [
        "train_data['class'].value_counts()"
      ],
      "execution_count": null,
      "outputs": [
        {
          "output_type": "execute_result",
          "data": {
            "text/plain": [
              "-1    4861\n",
              " 0    3657\n",
              " 1    2754\n",
              "Name: class, dtype: int64"
            ]
          },
          "metadata": {},
          "execution_count": 15
        }
      ]
    },
    {
      "cell_type": "code",
      "metadata": {
        "colab": {
          "base_uri": "https://localhost:8080/"
        },
        "id": "L2ovIalioJyY",
        "outputId": "e5396a61-c370-45be-f8ed-19c9f6331e29"
      },
      "source": [
        "train_data.shape"
      ],
      "execution_count": null,
      "outputs": [
        {
          "output_type": "execute_result",
          "data": {
            "text/plain": [
              "(11272, 2)"
            ]
          },
          "metadata": {},
          "execution_count": 16
        }
      ]
    },
    {
      "cell_type": "markdown",
      "metadata": {
        "id": "q7govY3EX1v0"
      },
      "source": [
        "**DATA CLEANING**"
      ]
    },
    {
      "cell_type": "code",
      "metadata": {
        "id": "gHJpH5OLXyD8"
      },
      "source": [
        "#Contractions Dictionary\n",
        "import re\n",
        "contractions_dict = { \"ain't\": \"are not\",\"'s\":\" is\",\"aren't\": \"are not\",\n",
        "                     \"can't\": \"cannot\",\"can't've\": \"cannot have\",\n",
        "                     \"'cause\": \"because\",\"could've\": \"could have\",\"couldn't\": \"could not\",\n",
        "                     \"couldn't've\": \"could not have\", \"didn't\": \"did not\",\"doesn't\": \"does not\",\n",
        "                     \"don't\": \"do not\",\"hadn't\": \"had not\",\"hadn't've\": \"had not have\",\n",
        "                     \"hasn't\": \"has not\",\"haven't\": \"have not\",\"he'd\": \"he would\",\n",
        "                     \"he'd've\": \"he would have\",\"he'll\": \"he will\", \"he'll've\": \"he will have\",\n",
        "                     \"how'd\": \"how did\",\"how'd'y\": \"how do you\",\"how'll\": \"how will\",\n",
        "                     \"I'd\": \"I would\", \"I'd've\": \"I would have\",\"I'll\": \"I will\",\n",
        "                     \"I'll've\": \"I will have\",\"I'm\": \"I am\",\"I've\": \"I have\", \"isn't\": \"is not\",\n",
        "                     \"it'd\": \"it would\",\"it'd've\": \"it would have\",\"it'll\": \"it will\",\n",
        "                     \"it'll've\": \"it will have\", \"let's\": \"let us\",\"ma'am\": \"madam\",\n",
        "                     \"mayn't\": \"may not\",\"might've\": \"might have\",\"mightn't\": \"might not\", \n",
        "                     \"mightn't've\": \"might not have\",\"must've\": \"must have\",\"mustn't\": \"must not\",\n",
        "                     \"mustn't've\": \"must not have\", \"needn't\": \"need not\",\n",
        "                     \"needn't've\": \"need not have\",\"o'clock\": \"of the clock\",\"oughtn't\": \"ought not\",\n",
        "                     \"oughtn't've\": \"ought not have\",\"shan't\": \"shall not\",\"sha'n't\": \"shall not\",\n",
        "                     \"shan't've\": \"shall not have\",\"she'd\": \"she would\",\"she'd've\": \"she would have\",\n",
        "                     \"she'll\": \"she will\", \"she'll've\": \"she will have\",\"should've\": \"should have\",\n",
        "                     \"shouldn't\": \"should not\", \"shouldn't've\": \"should not have\",\"so've\": \"so have\",\n",
        "                     \"that'd\": \"that would\",\"that'd've\": \"that would have\", \"there'd\": \"there would\",\n",
        "                     \"there'd've\": \"there would have\", \"they'd\": \"they would\",\n",
        "                     \"they'd've\": \"they would have\",\"they'll\": \"they will\",\n",
        "                     \"they'll've\": \"they will have\", \"they're\": \"they are\",\"they've\": \"they have\",\n",
        "                     \"to've\": \"to have\",\"wasn't\": \"was not\",\"we'd\": \"we would\",\n",
        "                     \"we'd've\": \"we would have\",\"we'll\": \"we will\",\"we'll've\": \"we will have\",\n",
        "                     \"we're\": \"we are\",\"we've\": \"we have\", \"weren't\": \"were not\",\"what'll\": \"what will\",\n",
        "                     \"what'll've\": \"what will have\",\"what're\": \"what are\", \"what've\": \"what have\",\n",
        "                     \"when've\": \"when have\",\"where'd\": \"where did\", \"where've\": \"where have\",\n",
        "                     \"who'll\": \"who will\",\"who'll've\": \"who will have\",\"who've\": \"who have\",\n",
        "                     \"why've\": \"why have\",\"will've\": \"will have\",\"won't\": \"will not\",\n",
        "                     \"won't've\": \"will not have\", \"would've\": \"would have\",\"wouldn't\": \"would not\",\n",
        "                     \"wouldn't've\": \"would not have\",\"y'all\": \"you all\", \"y'all'd\": \"you all would\",\n",
        "                     \"y'all'd've\": \"you all would have\",\"y'all're\": \"you all are\",\n",
        "                     \"y'all've\": \"you all have\", \"you'd\": \"you would\",\"you'd've\": \"you would have\",\n",
        "                     \"you'll\": \"you will\",\"you'll've\": \"you will have\", \"you're\": \"you are\",\n",
        "                     \"you've\": \"you have\"}\n",
        "\n",
        "# Regular expression for finding contractions\n",
        "contractions_re=re.compile('(%s)' % '|'.join(contractions_dict.keys()))\n",
        "\n",
        "# Function for expanding contractions\n",
        "def expand_contractions(text,contractions_dict=contractions_dict):\n",
        "  def replace(match):\n",
        "    return contractions_dict[match.group(0)]\n",
        "  return contractions_re.sub(replace, text)\n",
        "\n",
        "# Expanding Contractions in the CONTENT feature\n",
        "train_data['Annotated tweet'] = train_data['Annotated tweet'].apply(lambda x:expand_contractions(x))"
      ],
      "execution_count": null,
      "outputs": []
    },
    {
      "cell_type": "code",
      "metadata": {
        "colab": {
          "base_uri": "https://localhost:8080/"
        },
        "id": "0LJ8D6DRXyGz",
        "outputId": "dc44227c-4699-4476-e661-9fe6a6dc1f7a"
      },
      "source": [
        "# check if still there are any contractions\n",
        "for text in train_data['Annotated tweet'].to_list():\n",
        "    r = contractions_re.findall(text)\n",
        "print(r)"
      ],
      "execution_count": null,
      "outputs": [
        {
          "output_type": "stream",
          "name": "stdout",
          "text": [
            "[]\n"
          ]
        }
      ]
    },
    {
      "cell_type": "code",
      "metadata": {
        "id": "pMW0lpSPiWvN"
      },
      "source": [
        "# Clean Data\n",
        "def read_obama_data():\n",
        "    data = pd.read_excel('/content/final-testData-no-label-Obama-tweets(2).xlsx', header = None)\n",
        "    data.rename(columns={ 0: 'index', 1:'Annotated tweet'}, inplace =True)\n",
        "    data.drop(labels = ['index'],  axis = 1, inplace = True)\n",
        "    return data\n",
        "\n",
        "def read_romney_data():\n",
        "    data = pd.read_excel('/content/final-testData-no-label-Romney-tweets(2).xlsx', header = None)\n",
        "    data.rename(columns={ 0: 'index', 1:'Annotated tweet'}, inplace =True)\n",
        "    data.drop(labels = ['index'],  axis = 1, inplace = True)\n",
        "    return data\n",
        "\n",
        "def clean_data(train_data):\n",
        "    train_data['Annotated tweet'] = train_data['Annotated tweet'].apply(lambda x:expand_contractions(x))\n",
        "    train_data['Annotated tweet'] = train_data['Annotated tweet'].apply(lambda x: bs4.BeautifulSoup(x, 'lxml').get_text())\n",
        "    train_data['Annotated tweet'] = train_data['Annotated tweet'].apply(lambda x: extract_words(x))\n",
        "    train_data['Annotated tweet'] = train_data['Annotated tweet'].apply(lambda tweet: ' '.join(re.sub(\"(@[A-Za-z0–9]+)|([^0-9A-Za-z \\t])|(\\w+:\\/\\/\\S+)\", \" \", tweet).split())) \n",
        "    train_data['Annotated tweet'] = train_data['Annotated tweet'].apply(lambda x: re.sub('\\w*\\d\\w*','', x))\n",
        "    train_data['Annotated tweet'] = train_data['Annotated tweet'].apply(lambda x: x.lower())\n",
        "    train_data['Annotated tweet'] = train_data['Annotated tweet'].replace('\\s+', ' ', regex=True)\n",
        "    #train_data['Annotated tweet'] = train_data['Annotated tweet'].apply(lambda x: ' '.join([word for word in x.split() if word not in (stop)]))\n",
        "    #train_data['tweet_without_stopwords'] = train_data\n",
        "    train_data['Annotated tweet'] = train_data['Annotated tweet'].apply(norm_lemm_v_a_func)\n",
        "    train_data['Annotated tweet'] = train_data['Annotated tweet'].apply(lambda text : ' '.join([word for word in text.split() if len(word) > 1]))\n",
        "    train_data['Annotated tweet'] = train_data['Annotated tweet'].apply(lambda text : multiple_word_remove_func(text, words_list))\n",
        "    return train_data['Annotated tweet']\n",
        "\n",
        "def to_vectors(data):\n",
        "    data =  tfidf_vect.transform(data)\n",
        "    return data\n",
        "\n",
        "def save_obama_predictions(data):\n",
        "    preds_array = clf.predict(data)\n",
        "    with open('Obama.txt', 'w') as writefile:\n",
        "        writefile.write('82 98')\n",
        "        writefile.write(\"\\n\")\n",
        "        for index,prediction in enumerate(preds_array):\n",
        "            writefile.write(str(index+1)+';;'+ str(prediction))\n",
        "            writefile.write(\"\\n\")\n",
        "    files.download('Obama.txt')\n",
        "\n",
        "def save_romney_predictions(data):\n",
        "    preds_array = clf.predict(data)\n",
        "    with open('Romney.txt', 'w') as writefile:\n",
        "        writefile.write('82 98')\n",
        "        writefile.write(\"\\n\")\n",
        "        for index,prediction in enumerate(preds_array):\n",
        "            writefile.write(str(index+1)+';;'+ str(prediction))\n",
        "            writefile.write(\"\\n\")\n",
        "    files.download('Romney.txt')"
      ],
      "execution_count": null,
      "outputs": []
    },
    {
      "cell_type": "code",
      "metadata": {
        "colab": {
          "base_uri": "https://localhost:8080/",
          "height": 17
        },
        "id": "193QDdLHe7nl",
        "outputId": "e4dd414d-0ff1-4abb-f50b-78b07bda5501"
      },
      "source": [
        "obama = read_obama_data()\n",
        "obama = clean_data(obama)\n",
        "obama = to_vectors(obama)\n",
        "save_obama_predictions(obama)"
      ],
      "execution_count": null,
      "outputs": [
        {
          "output_type": "display_data",
          "data": {
            "application/javascript": [
              "\n",
              "    async function download(id, filename, size) {\n",
              "      if (!google.colab.kernel.accessAllowed) {\n",
              "        return;\n",
              "      }\n",
              "      const div = document.createElement('div');\n",
              "      const label = document.createElement('label');\n",
              "      label.textContent = `Downloading \"${filename}\": `;\n",
              "      div.appendChild(label);\n",
              "      const progress = document.createElement('progress');\n",
              "      progress.max = size;\n",
              "      div.appendChild(progress);\n",
              "      document.body.appendChild(div);\n",
              "\n",
              "      const buffers = [];\n",
              "      let downloaded = 0;\n",
              "\n",
              "      const channel = await google.colab.kernel.comms.open(id);\n",
              "      // Send a message to notify the kernel that we're ready.\n",
              "      channel.send({})\n",
              "\n",
              "      for await (const message of channel.messages) {\n",
              "        // Send a message to notify the kernel that we're ready.\n",
              "        channel.send({})\n",
              "        if (message.buffers) {\n",
              "          for (const buffer of message.buffers) {\n",
              "            buffers.push(buffer);\n",
              "            downloaded += buffer.byteLength;\n",
              "            progress.value = downloaded;\n",
              "          }\n",
              "        }\n",
              "      }\n",
              "      const blob = new Blob(buffers, {type: 'application/binary'});\n",
              "      const a = document.createElement('a');\n",
              "      a.href = window.URL.createObjectURL(blob);\n",
              "      a.download = filename;\n",
              "      div.appendChild(a);\n",
              "      a.click();\n",
              "      div.remove();\n",
              "    }\n",
              "  "
            ],
            "text/plain": [
              "<IPython.core.display.Javascript object>"
            ]
          },
          "metadata": {}
        },
        {
          "output_type": "display_data",
          "data": {
            "application/javascript": [
              "download(\"download_6a82b168-e9d9-4cdb-be8d-f93d4b83f8aa\", \"Obama.txt\", 15427)"
            ],
            "text/plain": [
              "<IPython.core.display.Javascript object>"
            ]
          },
          "metadata": {}
        }
      ]
    },
    {
      "cell_type": "code",
      "metadata": {
        "colab": {
          "base_uri": "https://localhost:8080/",
          "height": 17
        },
        "id": "pTpgj86bfMR6",
        "outputId": "f3023bb0-af85-434c-bd37-7173defae7c8"
      },
      "source": [
        "romney = read_romney_data()\n",
        "romney = clean_data(romney)\n",
        "romney = to_vectors(romney)\n",
        "save_romney_predictions(romney)"
      ],
      "execution_count": null,
      "outputs": [
        {
          "output_type": "display_data",
          "data": {
            "application/javascript": [
              "\n",
              "    async function download(id, filename, size) {\n",
              "      if (!google.colab.kernel.accessAllowed) {\n",
              "        return;\n",
              "      }\n",
              "      const div = document.createElement('div');\n",
              "      const label = document.createElement('label');\n",
              "      label.textContent = `Downloading \"${filename}\": `;\n",
              "      div.appendChild(label);\n",
              "      const progress = document.createElement('progress');\n",
              "      progress.max = size;\n",
              "      div.appendChild(progress);\n",
              "      document.body.appendChild(div);\n",
              "\n",
              "      const buffers = [];\n",
              "      let downloaded = 0;\n",
              "\n",
              "      const channel = await google.colab.kernel.comms.open(id);\n",
              "      // Send a message to notify the kernel that we're ready.\n",
              "      channel.send({})\n",
              "\n",
              "      for await (const message of channel.messages) {\n",
              "        // Send a message to notify the kernel that we're ready.\n",
              "        channel.send({})\n",
              "        if (message.buffers) {\n",
              "          for (const buffer of message.buffers) {\n",
              "            buffers.push(buffer);\n",
              "            downloaded += buffer.byteLength;\n",
              "            progress.value = downloaded;\n",
              "          }\n",
              "        }\n",
              "      }\n",
              "      const blob = new Blob(buffers, {type: 'application/binary'});\n",
              "      const a = document.createElement('a');\n",
              "      a.href = window.URL.createObjectURL(blob);\n",
              "      a.download = filename;\n",
              "      div.appendChild(a);\n",
              "      a.click();\n",
              "      div.remove();\n",
              "    }\n",
              "  "
            ],
            "text/plain": [
              "<IPython.core.display.Javascript object>"
            ]
          },
          "metadata": {}
        },
        {
          "output_type": "display_data",
          "data": {
            "application/javascript": [
              "download(\"download_3d6fd998-21cb-438c-af87-bedff1488145\", \"Romney.txt\", 15185)"
            ],
            "text/plain": [
              "<IPython.core.display.Javascript object>"
            ]
          },
          "metadata": {}
        }
      ]
    },
    {
      "cell_type": "code",
      "metadata": {
        "id": "EPj-pIR9XyJg"
      },
      "source": [
        "# Removes html tags \n",
        "train_data['Annotated tweet']=train_data['Annotated tweet'].apply(lambda x: bs4.BeautifulSoup(x, 'lxml').get_text())"
      ],
      "execution_count": null,
      "outputs": []
    },
    {
      "cell_type": "code",
      "metadata": {
        "id": "X8LGFZFb2aSV"
      },
      "source": [
        "# Splits Hashtags\n",
        "import wordsegment as ws\n",
        "ws.load()\n",
        "def extract_words(tweet):\n",
        "    hashtags = re.findall(r\"(#\\w+)\", tweet)\n",
        "    for hs in hashtags:\n",
        "        words = \" \".join(ws.segment(hs))\n",
        "        tweet = tweet.replace(hs, words)\n",
        "    return tweet\n",
        "\n",
        "\n",
        "train_data['Annotated tweet'] = train_data['Annotated tweet'].apply(lambda x: extract_words(x))"
      ],
      "execution_count": null,
      "outputs": []
    },
    {
      "cell_type": "code",
      "metadata": {
        "id": "viQ3UGaI2PsI"
      },
      "source": [
        "# removes urls, punctuations, emojis, hastags, mentions.\n",
        "train_data['Annotated tweet'] = train_data['Annotated tweet'].apply(lambda tweet: ' '.join(re.sub(\"(@[A-Za-z0–9]+)|([^0-9A-Za-z \\t])|(\\w+:\\/\\/\\S+)\", \" \", tweet).split())) "
      ],
      "execution_count": null,
      "outputs": []
    },
    {
      "cell_type": "code",
      "metadata": {
        "id": "9WP-t1mRYwmF"
      },
      "source": [
        "# Remove digits and words with digits\n",
        "train_data['Annotated tweet'] = train_data['Annotated tweet'].apply(lambda x: re.sub('\\w*\\d\\w*','', x))"
      ],
      "execution_count": null,
      "outputs": []
    },
    {
      "cell_type": "code",
      "metadata": {
        "id": "ZF2PqDBDYy2O"
      },
      "source": [
        "# Convert to lowercase\n",
        "train_data['Annotated tweet'] = train_data['Annotated tweet'].apply(lambda x: x.lower())"
      ],
      "execution_count": null,
      "outputs": []
    },
    {
      "cell_type": "code",
      "metadata": {
        "id": "6E2lKnWcY8R0"
      },
      "source": [
        "# Remove extra spaces\n",
        "train_data['Annotated tweet'] = train_data['Annotated tweet'].replace('\\s+', ' ', regex=True)"
      ],
      "execution_count": null,
      "outputs": []
    },
    {
      "cell_type": "code",
      "metadata": {
        "colab": {
          "base_uri": "https://localhost:8080/"
        },
        "id": "WDOtJatb2xmf",
        "outputId": "e3096885-81fa-4d05-af77-c6ecec58f862"
      },
      "source": [
        "# Remove STOPWORDS\n",
        "import nltk\n",
        "from nltk.corpus import stopwords\n",
        "nltk.download('stopwords')\n",
        "stop = stopwords.words('english')\n",
        "\n",
        "train_data['tweet_without_stopwords'] = train_data['Annotated tweet'].apply(lambda x: ' '.join([word for word in x.split() if word not in (stop)]))"
      ],
      "execution_count": null,
      "outputs": [
        {
          "output_type": "stream",
          "name": "stdout",
          "text": [
            "[nltk_data] Downloading package stopwords to /root/nltk_data...\n",
            "[nltk_data]   Package stopwords is already up-to-date!\n"
          ]
        }
      ]
    },
    {
      "cell_type": "code",
      "metadata": {
        "id": "_BjtMeYElmeQ"
      },
      "source": [
        "train_data['tweet_without_stopwords'] = train_data['Annotated tweet']"
      ],
      "execution_count": null,
      "outputs": []
    },
    {
      "cell_type": "code",
      "metadata": {
        "colab": {
          "base_uri": "https://localhost:8080/"
        },
        "id": "Ng8xMEmozu0r",
        "outputId": "04c4084d-c946-44ff-9ec2-d027c0a98aa5"
      },
      "source": [
        "# Num of words in the data after removing stopwords\n",
        "train_data['tweet_without_stopwords'].apply(lambda x: len(x.split(' '))).sum()"
      ],
      "execution_count": null,
      "outputs": [
        {
          "output_type": "execute_result",
          "data": {
            "text/plain": [
              "167865"
            ]
          },
          "metadata": {},
          "execution_count": 26
        }
      ]
    },
    {
      "cell_type": "code",
      "metadata": {
        "colab": {
          "base_uri": "https://localhost:8080/"
        },
        "id": "qgBpd7WMDoLP",
        "outputId": "cccf0dea-20e4-4e5d-d85b-3bf5bc8c052c"
      },
      "source": [
        "# unique words in the data\n",
        "li = []\n",
        "for l in train_data['tweet_without_stopwords'].apply(lambda x: x.split(' ')).to_list():\n",
        "    li = li + l\n",
        "len(set(li))\n",
        "# train_data['tweet_without_stopwords'].apply(lambda x: len(x.split(' '))).sum()"
      ],
      "execution_count": null,
      "outputs": [
        {
          "output_type": "execute_result",
          "data": {
            "text/plain": [
              "12012"
            ]
          },
          "metadata": {},
          "execution_count": 27
        }
      ]
    },
    {
      "cell_type": "code",
      "metadata": {
        "colab": {
          "base_uri": "https://localhost:8080/"
        },
        "id": "8oOfBk0K0wCH",
        "outputId": "a66684ef-4b0f-4b6f-d64f-c87fd93b8cd1"
      },
      "source": [
        "max([len(x) for x in train_data['tweet_without_stopwords']])"
      ],
      "execution_count": null,
      "outputs": [
        {
          "output_type": "execute_result",
          "data": {
            "text/plain": [
              "171"
            ]
          },
          "metadata": {},
          "execution_count": 77
        }
      ]
    },
    {
      "cell_type": "code",
      "metadata": {
        "colab": {
          "base_uri": "https://localhost:8080/"
        },
        "id": "d4zFZko6ciif",
        "outputId": "7fc778e4-d06d-4a59-de31-14d9b9b61504"
      },
      "source": [
        "from nltk.tokenize import word_tokenize\n",
        "from nltk.stem import WordNetLemmatizer\n",
        "nltk.download('wordnet')\n",
        "def norm_lemm_v_a_func(text):\n",
        "    words1 = word_tokenize(text)\n",
        "    text1 = ' '.join([WordNetLemmatizer().lemmatize(word, pos='v') for word in words1])\n",
        "    words2 = word_tokenize(text1)\n",
        "    text2 = ' '.join([WordNetLemmatizer().lemmatize(word, pos='a') for word in words2])\n",
        "    return text2"
      ],
      "execution_count": null,
      "outputs": [
        {
          "output_type": "stream",
          "name": "stdout",
          "text": [
            "[nltk_data] Downloading package wordnet to /root/nltk_data...\n",
            "[nltk_data]   Unzipping corpora/wordnet.zip.\n"
          ]
        }
      ]
    },
    {
      "cell_type": "code",
      "metadata": {
        "colab": {
          "base_uri": "https://localhost:8080/"
        },
        "id": "m6M46TFadcq8",
        "outputId": "c0033952-3976-4b2d-f770-989aec30c99e"
      },
      "source": [
        "#normalization - lemmatizing\n",
        "nltk.download('punkt')\n",
        "train_data['tweet_without_stopwords'] = train_data['tweet_without_stopwords'].apply(norm_lemm_v_a_func)"
      ],
      "execution_count": null,
      "outputs": [
        {
          "output_type": "stream",
          "name": "stdout",
          "text": [
            "[nltk_data] Downloading package punkt to /root/nltk_data...\n",
            "[nltk_data]   Unzipping tokenizers/punkt.zip.\n"
          ]
        }
      ]
    },
    {
      "cell_type": "code",
      "metadata": {
        "id": "acJqRn2ReXL3"
      },
      "source": [
        "# Remove single characters\n",
        "train_data['tweet_without_stopwords'] = train_data['tweet_without_stopwords'].apply(lambda text : ' '.join([word for word in text.split() if len(word) > 1]))"
      ],
      "execution_count": null,
      "outputs": []
    },
    {
      "cell_type": "code",
      "metadata": {
        "id": "X5HyL_8_hrfa"
      },
      "source": [
        "from nltk.probability import FreqDist\n",
        "def most_freq_word_func(text, n_words=5):\n",
        "    words = word_tokenize(text)\n",
        "    fdist = FreqDist(words) \n",
        "    \n",
        "    df_fdist = pd.DataFrame({'Word': fdist.keys(),\n",
        "                             'Frequency': fdist.values()})\n",
        "    df_fdist = df_fdist.sort_values(by='Frequency', ascending=False)\n",
        "    \n",
        "    n_words = n_words\n",
        "    most_freq_words_list = list(df_fdist['Word'][0:n_words])\n",
        "    \n",
        "    return most_freq_words_list"
      ],
      "execution_count": null,
      "outputs": []
    },
    {
      "cell_type": "code",
      "metadata": {
        "id": "WiS6JSVFh2xO"
      },
      "source": [
        "def most_rare_word_func(text, n_words=5):\n",
        "    words = word_tokenize(text)\n",
        "    fdist = FreqDist(words) \n",
        "    \n",
        "    df_fdist = pd.DataFrame({'Word': fdist.keys(),\n",
        "                             'Frequency': fdist.values()})\n",
        "    df_fdist = df_fdist.sort_values(by='Frequency', ascending=False)\n",
        "    \n",
        "    n_words = n_words\n",
        "    most_rare_words_list = list(df_fdist['Word'][-n_words:])\n",
        "    \n",
        "    return most_rare_words_list"
      ],
      "execution_count": null,
      "outputs": []
    },
    {
      "cell_type": "code",
      "metadata": {
        "id": "92eZjd7SiBqg"
      },
      "source": [
        "text_corpus_original = train_data['tweet_without_stopwords'].str.cat(sep=' ')\n",
        "most_freq_words_list_DataFrame = most_freq_word_func(text_corpus_original, n_words=10)\n",
        "most_rare_words_list_DataFrame = most_rare_word_func(text_corpus_original, n_words=30)\n",
        "words_list = most_freq_words_list_DataFrame + most_rare_words_list_DataFrame\n",
        "words_list = [word for word in words_list if word != 'not' ]\n"
      ],
      "execution_count": null,
      "outputs": []
    },
    {
      "cell_type": "code",
      "metadata": {
        "id": "sUzSYhpAlJsJ"
      },
      "source": [
        "def multiple_word_remove_func(text, words_2_remove_list):\n",
        "    words_to_remove_list = words_2_remove_list\n",
        "    words = word_tokenize(text)\n",
        "    text = ' '.join([word for word in words if word not in words_to_remove_list])\n",
        "    return text"
      ],
      "execution_count": null,
      "outputs": []
    },
    {
      "cell_type": "code",
      "metadata": {
        "id": "kZxoNMSllPGl"
      },
      "source": [
        "# Remove Most common and Rarest words\n",
        "train_data['tweets_wo_freq_words'] = train_data['tweet_without_stopwords'].apply(lambda text : multiple_word_remove_func(text, words_list))"
      ],
      "execution_count": null,
      "outputs": []
    },
    {
      "cell_type": "code",
      "metadata": {
        "id": "AkizYQDemfqL"
      },
      "source": [
        "'''\n",
        "from sklearn.model_selection import train_test_split\n",
        "data1= train_data['tweets_wo_freq_words']\n",
        "labels = train_data['class']\n",
        "X_train,X_test,Y_train,Y_test = train_test_split(data1, labels, test_size=0.2)\n",
        "'''"
      ],
      "execution_count": null,
      "outputs": []
    },
    {
      "cell_type": "code",
      "metadata": {
        "id": "7hRpykJ15bYJ"
      },
      "source": [
        "from sklearn.feature_extraction.text import TfidfVectorizer\n",
        "tfidf_vect = TfidfVectorizer(analyzer='word', token_pattern=r'\\w{1,}', max_features=10000)\n",
        "tfidf_vect.fit(train_data['tweets_wo_freq_words'])\n",
        "X_train =  tfidf_vect.transform(train_data['tweets_wo_freq_words'])\n",
        "Y_train = train_data['class']\n",
        "#X_test =  tfidf_vect.transform(X_test)"
      ],
      "execution_count": null,
      "outputs": []
    },
    {
      "cell_type": "markdown",
      "metadata": {
        "id": "_hGsntRhFuQE"
      },
      "source": [
        "# LR"
      ]
    },
    {
      "cell_type": "code",
      "metadata": {
        "colab": {
          "base_uri": "https://localhost:8080/",
          "height": 87
        },
        "id": "pahtcET482tp",
        "outputId": "6456481e-7c6c-4703-f284-0dd8491d942e"
      },
      "source": [
        "# Logistic Regression\n",
        "\n",
        "from sklearn.linear_model import LogisticRegression\n",
        "from sklearn.model_selection import cross_validate\n",
        "clf = LogisticRegression(max_iter=1000)\n",
        "scores = cross_validate(clf, X_train, Y_train, cv=5, return_train_score=False, n_jobs=-1)\n",
        "clf.fit(X_train, Y_train)\n",
        "print(\"cv test score\",scores['test_score'].mean())\n",
        "\n",
        "'''\n",
        "y_pred = clf.predict(X_test)\n",
        "from sklearn.metrics import classification_report, accuracy_score, confusion_matrix\n",
        "print('accuracy %s' % accuracy_score(Y_test, y_pred))\n",
        "print(classification_report( Y_test, y_pred))\n",
        "print(confusion_matrix(Y_test, y_pred))\n",
        "'''"
      ],
      "execution_count": null,
      "outputs": [
        {
          "output_type": "stream",
          "name": "stdout",
          "text": [
            "cv test score 0.5613873537460872\n"
          ]
        },
        {
          "output_type": "execute_result",
          "data": {
            "application/vnd.google.colaboratory.intrinsic+json": {
              "type": "string"
            },
            "text/plain": [
              "\"\\ny_pred = clf.predict(X_test)\\nfrom sklearn.metrics import classification_report, accuracy_score, confusion_matrix\\nprint('accuracy %s' % accuracy_score(Y_test, y_pred))\\nprint(classification_report( Y_test, y_pred))\\nprint(confusion_matrix(Y_test, y_pred))\\n\""
            ]
          },
          "metadata": {},
          "execution_count": 40
        }
      ]
    },
    {
      "cell_type": "markdown",
      "metadata": {
        "id": "j402IF0gF9eS"
      },
      "source": [
        "# SGD"
      ]
    },
    {
      "cell_type": "code",
      "metadata": {
        "colab": {
          "base_uri": "https://localhost:8080/",
          "height": 70
        },
        "id": "NcNEdzOvG1KE",
        "outputId": "4da14555-1506-46a8-a00c-4aed3fe2a309"
      },
      "source": [
        "from sklearn.linear_model import SGDClassifier\n",
        "sgd = SGDClassifier(loss='modified_huber', max_iter=1000, tol=1e-3,   n_iter_no_change=10, early_stopping=True, n_jobs=-1 )\n",
        "scores = cross_validate(sgd, X_train, Y_train, cv=5, return_train_score=False, n_jobs=-1)\n",
        "print(\"cv test score\",scores['test_score'].mean())\n",
        "sgd.fit(X_train,Y_train)\n",
        "'''\n",
        "y_pred = sgd.predict(X_test)\n",
        "print('accuracy %s' % accuracy_score(Y_test, y_pred))\n",
        "print(classification_report( Y_test, y_pred))\n",
        "print(confusion_matrix(Y_test, y_pred))\n",
        "'''"
      ],
      "execution_count": null,
      "outputs": [
        {
          "output_type": "stream",
          "name": "stdout",
          "text": [
            "cv test score 0.5309583947335803\n"
          ]
        },
        {
          "output_type": "execute_result",
          "data": {
            "application/vnd.google.colaboratory.intrinsic+json": {
              "type": "string"
            },
            "text/plain": [
              "\"\\ny_pred = sgd.predict(X_test)\\nprint('accuracy %s' % accuracy_score(Y_test, y_pred))\\nprint(classification_report( Y_test, y_pred))\\nprint(confusion_matrix(Y_test, y_pred))\\n\""
            ]
          },
          "metadata": {},
          "execution_count": 41
        }
      ]
    },
    {
      "cell_type": "markdown",
      "metadata": {
        "id": "1XoHiCCAF27i"
      },
      "source": [
        "# Naive Baye's"
      ]
    },
    {
      "cell_type": "code",
      "metadata": {
        "colab": {
          "base_uri": "https://localhost:8080/",
          "height": 70
        },
        "id": "4SlkeMp7tpdN",
        "outputId": "b3320136-9365-44cf-ffc1-b9a855bfd475"
      },
      "source": [
        "# Naive baye's\n",
        "\n",
        "from sklearn.naive_bayes import MultinomialNB\n",
        "nb = MultinomialNB()\n",
        "scores = cross_validate(nb, X_train, Y_train, cv=5, return_train_score=False, n_jobs=-1)\n",
        "print(\"cv test score\",scores['test_score'].mean())\n",
        "nb.fit(X_train, Y_train)\n",
        "'''\n",
        "y_pred = nb.predict(X_test)\n",
        "print('accuracy %s' % accuracy_score(Y_test, y_pred))\n",
        "print(classification_report(Y_test, y_pred))\n",
        "print(confusion_matrix(Y_test, y_pred))\n",
        "'''"
      ],
      "execution_count": null,
      "outputs": [
        {
          "output_type": "stream",
          "name": "stdout",
          "text": [
            "cv test score 0.5265224277313354\n"
          ]
        },
        {
          "output_type": "execute_result",
          "data": {
            "application/vnd.google.colaboratory.intrinsic+json": {
              "type": "string"
            },
            "text/plain": [
              "\"\\ny_pred = nb.predict(X_test)\\nprint('accuracy %s' % accuracy_score(Y_test, y_pred))\\nprint(classification_report(Y_test, y_pred))\\nprint(confusion_matrix(Y_test, y_pred))\\n\""
            ]
          },
          "metadata": {},
          "execution_count": 42
        }
      ]
    },
    {
      "cell_type": "markdown",
      "metadata": {
        "id": "ZrsCbHOhMpa1"
      },
      "source": [
        "# Random Forest"
      ]
    },
    {
      "cell_type": "code",
      "metadata": {
        "colab": {
          "base_uri": "https://localhost:8080/",
          "height": 70
        },
        "id": "n8vERw4XMsGU",
        "outputId": "7dc73225-9ffa-4965-af27-d701abbc8951"
      },
      "source": [
        "from sklearn.ensemble import RandomForestClassifier\n",
        "rf = RandomForestClassifier(bootstrap=True,min_impurity_decrease=1e-7,n_jobs=-1, random_state=42)\n",
        "scores = cross_validate(rf, X_train, Y_train, cv=5, return_train_score=False, n_jobs=-1)\n",
        "print(\"cv test score\",scores['test_score'].mean())\n",
        "rf.fit(X_train, Y_train)\n",
        "'''\n",
        "y_pred = rf.predict(X_test)\n",
        "print('accuracy %s' % accuracy_score(Y_test, y_pred))\n",
        "print(classification_report(Y_test, y_pred))\n",
        "print(confusion_matrix(Y_test, y_pred))\n",
        "'''"
      ],
      "execution_count": null,
      "outputs": [
        {
          "output_type": "stream",
          "name": "stdout",
          "text": [
            "cv test score 0.5514519445105719\n"
          ]
        },
        {
          "output_type": "execute_result",
          "data": {
            "application/vnd.google.colaboratory.intrinsic+json": {
              "type": "string"
            },
            "text/plain": [
              "\"\\ny_pred = rf.predict(X_test)\\nprint('accuracy %s' % accuracy_score(Y_test, y_pred))\\nprint(classification_report(Y_test, y_pred))\\nprint(confusion_matrix(Y_test, y_pred))\\n\""
            ]
          },
          "metadata": {},
          "execution_count": 43
        }
      ]
    },
    {
      "cell_type": "markdown",
      "metadata": {
        "id": "6W1-uagwRMVB"
      },
      "source": [
        "# XgBoost"
      ]
    },
    {
      "cell_type": "code",
      "metadata": {
        "colab": {
          "base_uri": "https://localhost:8080/",
          "height": 70
        },
        "id": "xT91b15wROf2",
        "outputId": "4fb360ac-5193-4eb3-cb73-ebd27cc2fb8c"
      },
      "source": [
        "from xgboost import XGBClassifier\n",
        "#fit_params={'early_stopping_rounds':10}\n",
        "xgb = XGBClassifier(n_estimators=1000, subsample=0.8)\n",
        "scores = cross_validate(xgb, X_train, Y_train, cv=5, return_train_score=False, n_jobs=-1)\n",
        "print(\"cv test score\",scores['test_score'].mean())\n",
        "xgb.fit(X_train, Y_train)\n",
        "'''\n",
        "y_pred = xgb.predict(X_test)\n",
        "print('accuracy %s' % accuracy_score(Y_test, y_pred))\n",
        "print(classification_report(Y_test, y_pred))\n",
        "print(confusion_matrix(Y_test, y_pred))\n",
        "'''"
      ],
      "execution_count": null,
      "outputs": [
        {
          "output_type": "stream",
          "name": "stdout",
          "text": [
            "cv test score 0.5498559250172642\n"
          ]
        },
        {
          "output_type": "execute_result",
          "data": {
            "application/vnd.google.colaboratory.intrinsic+json": {
              "type": "string"
            },
            "text/plain": [
              "\"\\ny_pred = xgb.predict(X_test)\\nprint('accuracy %s' % accuracy_score(Y_test, y_pred))\\nprint(classification_report(Y_test, y_pred))\\nprint(confusion_matrix(Y_test, y_pred))\\n\""
            ]
          },
          "metadata": {},
          "execution_count": 96
        }
      ]
    },
    {
      "cell_type": "markdown",
      "metadata": {
        "id": "j8pqJRQQHOBg"
      },
      "source": [
        "# SVM"
      ]
    },
    {
      "cell_type": "code",
      "metadata": {
        "colab": {
          "base_uri": "https://localhost:8080/",
          "height": 70
        },
        "id": "8GNlDZtgHPuM",
        "outputId": "f83c56e8-8c06-4522-818a-7f9c1407e0b5"
      },
      "source": [
        "from sklearn import svm\n",
        "from sklearn.model_selection import cross_validate\n",
        "s = svm.SVC(kernel = 'linear', gamma=0.1)\n",
        "scores = cross_validate(s, X_train, Y_train, cv=5, return_train_score=False, n_jobs=-1)\n",
        "print(\"cv test score\",scores['test_score'].mean())\n",
        "s.fit(X_train, Y_train)\n",
        "\n",
        "'''\n",
        "y_pred = s.predict(X_test)\n",
        "print('accuracy %s' % accuracy_score(Y_test, y_pred))\n",
        "print(classification_report(Y_test, y_pred))\n",
        "print(confusion_matrix(Y_test, y_pred))\n",
        "'''"
      ],
      "execution_count": null,
      "outputs": [
        {
          "output_type": "stream",
          "name": "stdout",
          "text": [
            "cv test score 0.5550000885344015\n"
          ]
        },
        {
          "output_type": "execute_result",
          "data": {
            "application/vnd.google.colaboratory.intrinsic+json": {
              "type": "string"
            },
            "text/plain": [
              "\"\\ny_pred = s.predict(X_test)\\nprint('accuracy %s' % accuracy_score(Y_test, y_pred))\\nprint(classification_report(Y_test, y_pred))\\nprint(confusion_matrix(Y_test, y_pred))\\n\""
            ]
          },
          "metadata": {},
          "execution_count": 39
        }
      ]
    },
    {
      "cell_type": "code",
      "metadata": {
        "colab": {
          "base_uri": "https://localhost:8080/"
        },
        "id": "wQiOlYvW2gQR",
        "outputId": "e3855bc2-d1cc-4e0c-a57b-1e2d3a8403b8"
      },
      "source": [
        "from sklearn.model_selection import GridSearchCV\n",
        "from sklearn import svm\n",
        "# defining parameter range\n",
        "param_grid = { 'C':[0.1,1,100,1000],'kernel':['linear'],'degree':[3,4,5,6],'gamma': [1, 0.1, 0.01, 0.001, 0.0001]}\n",
        "grid = GridSearchCV(svm.SVC(), param_grid, refit = True, verbose = 3)\n",
        "# fitting the model for grid search\n",
        "grid.fit(X_train, Y_train)\n",
        "grid_search.best_params_"
      ],
      "execution_count": null,
      "outputs": [
        {
          "output_type": "stream",
          "name": "stdout",
          "text": [
            "Fitting 5 folds for each of 80 candidates, totalling 400 fits\n",
            "[CV 1/5] END C=0.1, degree=3, gamma=1, kernel=linear;, score=0.503 total time=  14.8s\n",
            "[CV 2/5] END C=0.1, degree=3, gamma=1, kernel=linear;, score=0.504 total time=  15.8s\n",
            "[CV 3/5] END C=0.1, degree=3, gamma=1, kernel=linear;, score=0.496 total time=  14.8s\n",
            "[CV 4/5] END C=0.1, degree=3, gamma=1, kernel=linear;, score=0.465 total time=  15.3s\n",
            "[CV 5/5] END C=0.1, degree=3, gamma=1, kernel=linear;, score=0.469 total time=  15.0s\n",
            "[CV 1/5] END C=0.1, degree=3, gamma=0.1, kernel=linear;, score=0.503 total time=  15.1s\n",
            "[CV 2/5] END C=0.1, degree=3, gamma=0.1, kernel=linear;, score=0.504 total time=  14.6s\n",
            "[CV 3/5] END C=0.1, degree=3, gamma=0.1, kernel=linear;, score=0.496 total time=  15.1s\n",
            "[CV 4/5] END C=0.1, degree=3, gamma=0.1, kernel=linear;, score=0.465 total time=  14.7s\n",
            "[CV 5/5] END C=0.1, degree=3, gamma=0.1, kernel=linear;, score=0.469 total time=  15.2s\n",
            "[CV 1/5] END C=0.1, degree=3, gamma=0.01, kernel=linear;, score=0.503 total time=  14.6s\n",
            "[CV 2/5] END C=0.1, degree=3, gamma=0.01, kernel=linear;, score=0.504 total time=  14.9s\n",
            "[CV 3/5] END C=0.1, degree=3, gamma=0.01, kernel=linear;, score=0.496 total time=  14.8s\n",
            "[CV 4/5] END C=0.1, degree=3, gamma=0.01, kernel=linear;, score=0.465 total time=  15.1s\n",
            "[CV 5/5] END C=0.1, degree=3, gamma=0.01, kernel=linear;, score=0.469 total time=  14.9s\n",
            "[CV 1/5] END C=0.1, degree=3, gamma=0.001, kernel=linear;, score=0.503 total time=  14.8s\n",
            "[CV 2/5] END C=0.1, degree=3, gamma=0.001, kernel=linear;, score=0.504 total time=  14.6s\n",
            "[CV 3/5] END C=0.1, degree=3, gamma=0.001, kernel=linear;, score=0.496 total time=  14.9s\n",
            "[CV 4/5] END C=0.1, degree=3, gamma=0.001, kernel=linear;, score=0.465 total time=  14.3s\n",
            "[CV 5/5] END C=0.1, degree=3, gamma=0.001, kernel=linear;, score=0.469 total time=  14.8s\n",
            "[CV 1/5] END C=0.1, degree=3, gamma=0.0001, kernel=linear;, score=0.503 total time=  14.4s\n",
            "[CV 2/5] END C=0.1, degree=3, gamma=0.0001, kernel=linear;, score=0.504 total time=  14.8s\n",
            "[CV 3/5] END C=0.1, degree=3, gamma=0.0001, kernel=linear;, score=0.496 total time=  14.6s\n",
            "[CV 4/5] END C=0.1, degree=3, gamma=0.0001, kernel=linear;, score=0.465 total time=  14.4s\n",
            "[CV 5/5] END C=0.1, degree=3, gamma=0.0001, kernel=linear;, score=0.469 total time=  14.8s\n",
            "[CV 1/5] END C=0.1, degree=4, gamma=1, kernel=linear;, score=0.503 total time=  14.6s\n",
            "[CV 2/5] END C=0.1, degree=4, gamma=1, kernel=linear;, score=0.504 total time=  14.6s\n",
            "[CV 3/5] END C=0.1, degree=4, gamma=1, kernel=linear;, score=0.496 total time=  14.6s\n",
            "[CV 4/5] END C=0.1, degree=4, gamma=1, kernel=linear;, score=0.465 total time=  14.5s\n",
            "[CV 5/5] END C=0.1, degree=4, gamma=1, kernel=linear;, score=0.469 total time=  15.2s\n",
            "[CV 1/5] END C=0.1, degree=4, gamma=0.1, kernel=linear;, score=0.503 total time=  14.3s\n",
            "[CV 2/5] END C=0.1, degree=4, gamma=0.1, kernel=linear;, score=0.504 total time=  14.7s\n",
            "[CV 3/5] END C=0.1, degree=4, gamma=0.1, kernel=linear;, score=0.496 total time=  14.5s\n",
            "[CV 4/5] END C=0.1, degree=4, gamma=0.1, kernel=linear;, score=0.465 total time=  14.4s\n",
            "[CV 5/5] END C=0.1, degree=4, gamma=0.1, kernel=linear;, score=0.469 total time=  14.5s\n",
            "[CV 1/5] END C=0.1, degree=4, gamma=0.01, kernel=linear;, score=0.503 total time=  14.5s\n",
            "[CV 2/5] END C=0.1, degree=4, gamma=0.01, kernel=linear;, score=0.504 total time=  14.4s\n",
            "[CV 3/5] END C=0.1, degree=4, gamma=0.01, kernel=linear;, score=0.496 total time=  14.6s\n",
            "[CV 4/5] END C=0.1, degree=4, gamma=0.01, kernel=linear;, score=0.465 total time=  14.2s\n",
            "[CV 5/5] END C=0.1, degree=4, gamma=0.01, kernel=linear;, score=0.469 total time=  14.7s\n",
            "[CV 1/5] END C=0.1, degree=4, gamma=0.001, kernel=linear;, score=0.503 total time=  14.3s\n",
            "[CV 2/5] END C=0.1, degree=4, gamma=0.001, kernel=linear;, score=0.504 total time=  14.6s\n",
            "[CV 3/5] END C=0.1, degree=4, gamma=0.001, kernel=linear;, score=0.496 total time=  14.5s\n",
            "[CV 4/5] END C=0.1, degree=4, gamma=0.001, kernel=linear;, score=0.465 total time=  14.3s\n",
            "[CV 5/5] END C=0.1, degree=4, gamma=0.001, kernel=linear;, score=0.469 total time=  14.6s\n",
            "[CV 1/5] END C=0.1, degree=4, gamma=0.0001, kernel=linear;, score=0.503 total time=  14.6s\n",
            "[CV 2/5] END C=0.1, degree=4, gamma=0.0001, kernel=linear;, score=0.504 total time=  14.5s\n",
            "[CV 3/5] END C=0.1, degree=4, gamma=0.0001, kernel=linear;, score=0.496 total time=  14.7s\n",
            "[CV 4/5] END C=0.1, degree=4, gamma=0.0001, kernel=linear;, score=0.465 total time=  14.2s\n",
            "[CV 5/5] END C=0.1, degree=4, gamma=0.0001, kernel=linear;, score=0.469 total time=  14.9s\n",
            "[CV 1/5] END C=0.1, degree=5, gamma=1, kernel=linear;, score=0.503 total time=  14.4s\n",
            "[CV 2/5] END C=0.1, degree=5, gamma=1, kernel=linear;, score=0.504 total time=  14.6s\n",
            "[CV 3/5] END C=0.1, degree=5, gamma=1, kernel=linear;, score=0.496 total time=  14.5s\n",
            "[CV 4/5] END C=0.1, degree=5, gamma=1, kernel=linear;, score=0.465 total time=  14.5s\n",
            "[CV 5/5] END C=0.1, degree=5, gamma=1, kernel=linear;, score=0.469 total time=  14.7s\n",
            "[CV 1/5] END C=0.1, degree=5, gamma=0.1, kernel=linear;, score=0.503 total time=  14.5s\n",
            "[CV 2/5] END C=0.1, degree=5, gamma=0.1, kernel=linear;, score=0.504 total time=  14.5s\n",
            "[CV 3/5] END C=0.1, degree=5, gamma=0.1, kernel=linear;, score=0.496 total time=  14.8s\n",
            "[CV 4/5] END C=0.1, degree=5, gamma=0.1, kernel=linear;, score=0.465 total time=  14.3s\n",
            "[CV 5/5] END C=0.1, degree=5, gamma=0.1, kernel=linear;, score=0.469 total time=  14.7s\n",
            "[CV 1/5] END C=0.1, degree=5, gamma=0.01, kernel=linear;, score=0.503 total time=  14.3s\n",
            "[CV 2/5] END C=0.1, degree=5, gamma=0.01, kernel=linear;, score=0.504 total time=  14.7s\n",
            "[CV 3/5] END C=0.1, degree=5, gamma=0.01, kernel=linear;, score=0.496 total time=  14.5s\n",
            "[CV 4/5] END C=0.1, degree=5, gamma=0.01, kernel=linear;, score=0.465 total time=  14.4s\n",
            "[CV 5/5] END C=0.1, degree=5, gamma=0.01, kernel=linear;, score=0.469 total time=  14.6s\n",
            "[CV 1/5] END C=0.1, degree=5, gamma=0.001, kernel=linear;, score=0.503 total time=  14.5s\n",
            "[CV 2/5] END C=0.1, degree=5, gamma=0.001, kernel=linear;, score=0.504 total time=  14.5s\n",
            "[CV 3/5] END C=0.1, degree=5, gamma=0.001, kernel=linear;, score=0.496 total time=  14.8s\n",
            "[CV 4/5] END C=0.1, degree=5, gamma=0.001, kernel=linear;, score=0.465 total time=  14.3s\n",
            "[CV 5/5] END C=0.1, degree=5, gamma=0.001, kernel=linear;, score=0.469 total time=  14.9s\n",
            "[CV 1/5] END C=0.1, degree=5, gamma=0.0001, kernel=linear;, score=0.503 total time=  14.7s\n",
            "[CV 2/5] END C=0.1, degree=5, gamma=0.0001, kernel=linear;, score=0.504 total time=  14.8s\n",
            "[CV 3/5] END C=0.1, degree=5, gamma=0.0001, kernel=linear;, score=0.496 total time=  14.8s\n",
            "[CV 4/5] END C=0.1, degree=5, gamma=0.0001, kernel=linear;, score=0.465 total time=  14.4s\n",
            "[CV 5/5] END C=0.1, degree=5, gamma=0.0001, kernel=linear;, score=0.469 total time=  14.8s\n",
            "[CV 1/5] END C=0.1, degree=6, gamma=1, kernel=linear;, score=0.503 total time=  14.5s\n",
            "[CV 2/5] END C=0.1, degree=6, gamma=1, kernel=linear;, score=0.504 total time=  14.6s\n",
            "[CV 3/5] END C=0.1, degree=6, gamma=1, kernel=linear;, score=0.496 total time=  14.7s\n",
            "[CV 4/5] END C=0.1, degree=6, gamma=1, kernel=linear;, score=0.465 total time=  14.4s\n",
            "[CV 5/5] END C=0.1, degree=6, gamma=1, kernel=linear;, score=0.469 total time=  15.0s\n",
            "[CV 1/5] END C=0.1, degree=6, gamma=0.1, kernel=linear;, score=0.503 total time=  14.4s\n",
            "[CV 2/5] END C=0.1, degree=6, gamma=0.1, kernel=linear;, score=0.504 total time=  14.7s\n",
            "[CV 3/5] END C=0.1, degree=6, gamma=0.1, kernel=linear;, score=0.496 total time=  14.6s\n",
            "[CV 4/5] END C=0.1, degree=6, gamma=0.1, kernel=linear;, score=0.465 total time=  14.5s\n",
            "[CV 5/5] END C=0.1, degree=6, gamma=0.1, kernel=linear;, score=0.469 total time=  14.7s\n",
            "[CV 1/5] END C=0.1, degree=6, gamma=0.01, kernel=linear;, score=0.503 total time=  14.5s\n",
            "[CV 2/5] END C=0.1, degree=6, gamma=0.01, kernel=linear;, score=0.504 total time=  14.7s\n",
            "[CV 3/5] END C=0.1, degree=6, gamma=0.01, kernel=linear;, score=0.496 total time=  15.0s\n",
            "[CV 4/5] END C=0.1, degree=6, gamma=0.01, kernel=linear;, score=0.465 total time=  14.4s\n",
            "[CV 5/5] END C=0.1, degree=6, gamma=0.01, kernel=linear;, score=0.469 total time=  14.9s\n",
            "[CV 1/5] END C=0.1, degree=6, gamma=0.001, kernel=linear;, score=0.503 total time=  14.6s\n",
            "[CV 2/5] END C=0.1, degree=6, gamma=0.001, kernel=linear;, score=0.504 total time=  15.0s\n",
            "[CV 3/5] END C=0.1, degree=6, gamma=0.001, kernel=linear;, score=0.496 total time=  14.7s\n",
            "[CV 4/5] END C=0.1, degree=6, gamma=0.001, kernel=linear;, score=0.465 total time=  14.6s\n",
            "[CV 5/5] END C=0.1, degree=6, gamma=0.001, kernel=linear;, score=0.469 total time=  15.0s\n",
            "[CV 1/5] END C=0.1, degree=6, gamma=0.0001, kernel=linear;, score=0.503 total time=  14.7s\n",
            "[CV 2/5] END C=0.1, degree=6, gamma=0.0001, kernel=linear;, score=0.504 total time=  14.6s\n",
            "[CV 3/5] END C=0.1, degree=6, gamma=0.0001, kernel=linear;, score=0.496 total time=  14.9s\n",
            "[CV 4/5] END C=0.1, degree=6, gamma=0.0001, kernel=linear;, score=0.465 total time=  14.4s\n",
            "[CV 5/5] END C=0.1, degree=6, gamma=0.0001, kernel=linear;, score=0.469 total time=  15.1s\n",
            "[CV 1/5] END C=1, degree=3, gamma=1, kernel=linear;, score=0.556 total time=  13.9s\n",
            "[CV 2/5] END C=1, degree=3, gamma=1, kernel=linear;, score=0.593 total time=  14.3s\n",
            "[CV 3/5] END C=1, degree=3, gamma=1, kernel=linear;, score=0.574 total time=  14.1s\n",
            "[CV 4/5] END C=1, degree=3, gamma=1, kernel=linear;, score=0.529 total time=  13.9s\n",
            "[CV 5/5] END C=1, degree=3, gamma=1, kernel=linear;, score=0.524 total time=  14.0s\n",
            "[CV 1/5] END C=1, degree=3, gamma=0.1, kernel=linear;, score=0.556 total time=  14.0s\n",
            "[CV 2/5] END C=1, degree=3, gamma=0.1, kernel=linear;, score=0.593 total time=  14.2s\n",
            "[CV 3/5] END C=1, degree=3, gamma=0.1, kernel=linear;, score=0.574 total time=  14.3s\n",
            "[CV 4/5] END C=1, degree=3, gamma=0.1, kernel=linear;, score=0.529 total time=  13.8s\n",
            "[CV 5/5] END C=1, degree=3, gamma=0.1, kernel=linear;, score=0.524 total time=  14.2s\n",
            "[CV 1/5] END C=1, degree=3, gamma=0.01, kernel=linear;, score=0.556 total time=  14.3s\n",
            "[CV 2/5] END C=1, degree=3, gamma=0.01, kernel=linear;, score=0.593 total time=  15.5s\n",
            "[CV 3/5] END C=1, degree=3, gamma=0.01, kernel=linear;, score=0.574 total time=  15.4s\n",
            "[CV 4/5] END C=1, degree=3, gamma=0.01, kernel=linear;, score=0.529 total time=  14.1s\n",
            "[CV 5/5] END C=1, degree=3, gamma=0.01, kernel=linear;, score=0.524 total time=  14.2s\n",
            "[CV 1/5] END C=1, degree=3, gamma=0.001, kernel=linear;, score=0.556 total time=  14.4s\n",
            "[CV 2/5] END C=1, degree=3, gamma=0.001, kernel=linear;, score=0.593 total time=  15.0s\n",
            "[CV 3/5] END C=1, degree=3, gamma=0.001, kernel=linear;, score=0.574 total time=  15.4s\n",
            "[CV 4/5] END C=1, degree=3, gamma=0.001, kernel=linear;, score=0.529 total time=  14.8s\n",
            "[CV 5/5] END C=1, degree=3, gamma=0.001, kernel=linear;, score=0.524 total time=  15.6s\n",
            "[CV 1/5] END C=1, degree=3, gamma=0.0001, kernel=linear;, score=0.556 total time=  15.2s\n",
            "[CV 2/5] END C=1, degree=3, gamma=0.0001, kernel=linear;, score=0.593 total time=  15.6s\n",
            "[CV 3/5] END C=1, degree=3, gamma=0.0001, kernel=linear;, score=0.574 total time=  15.3s\n",
            "[CV 4/5] END C=1, degree=3, gamma=0.0001, kernel=linear;, score=0.529 total time=  14.1s\n",
            "[CV 5/5] END C=1, degree=3, gamma=0.0001, kernel=linear;, score=0.524 total time=  15.0s\n",
            "[CV 1/5] END C=1, degree=4, gamma=1, kernel=linear;, score=0.556 total time=  14.7s\n",
            "[CV 2/5] END C=1, degree=4, gamma=1, kernel=linear;, score=0.593 total time=  14.4s\n",
            "[CV 3/5] END C=1, degree=4, gamma=1, kernel=linear;, score=0.574 total time=  14.6s\n",
            "[CV 4/5] END C=1, degree=4, gamma=1, kernel=linear;, score=0.529 total time=  14.1s\n",
            "[CV 5/5] END C=1, degree=4, gamma=1, kernel=linear;, score=0.524 total time=  14.7s\n",
            "[CV 1/5] END C=1, degree=4, gamma=0.1, kernel=linear;, score=0.556 total time=  15.4s\n",
            "[CV 2/5] END C=1, degree=4, gamma=0.1, kernel=linear;, score=0.593 total time=  16.2s\n",
            "[CV 3/5] END C=1, degree=4, gamma=0.1, kernel=linear;, score=0.574 total time=  16.0s\n",
            "[CV 4/5] END C=1, degree=4, gamma=0.1, kernel=linear;, score=0.529 total time=  15.2s\n",
            "[CV 5/5] END C=1, degree=4, gamma=0.1, kernel=linear;, score=0.524 total time=  14.4s\n",
            "[CV 1/5] END C=1, degree=4, gamma=0.01, kernel=linear;, score=0.556 total time=  14.4s\n",
            "[CV 2/5] END C=1, degree=4, gamma=0.01, kernel=linear;, score=0.593 total time=  14.5s\n",
            "[CV 3/5] END C=1, degree=4, gamma=0.01, kernel=linear;, score=0.574 total time=  14.9s\n",
            "[CV 4/5] END C=1, degree=4, gamma=0.01, kernel=linear;, score=0.529 total time=  14.1s\n",
            "[CV 5/5] END C=1, degree=4, gamma=0.01, kernel=linear;, score=0.524 total time=  14.2s\n",
            "[CV 1/5] END C=1, degree=4, gamma=0.001, kernel=linear;, score=0.556 total time=  13.9s\n",
            "[CV 2/5] END C=1, degree=4, gamma=0.001, kernel=linear;, score=0.593 total time=  14.3s\n",
            "[CV 3/5] END C=1, degree=4, gamma=0.001, kernel=linear;, score=0.574 total time=  14.0s\n",
            "[CV 4/5] END C=1, degree=4, gamma=0.001, kernel=linear;, score=0.529 total time=  13.9s\n",
            "[CV 5/5] END C=1, degree=4, gamma=0.001, kernel=linear;, score=0.524 total time=  14.0s\n",
            "[CV 1/5] END C=1, degree=4, gamma=0.0001, kernel=linear;, score=0.556 total time=  14.0s\n",
            "[CV 2/5] END C=1, degree=4, gamma=0.0001, kernel=linear;, score=0.593 total time=  14.1s\n",
            "[CV 3/5] END C=1, degree=4, gamma=0.0001, kernel=linear;, score=0.574 total time=  14.2s\n",
            "[CV 4/5] END C=1, degree=4, gamma=0.0001, kernel=linear;, score=0.529 total time=  13.9s\n",
            "[CV 5/5] END C=1, degree=4, gamma=0.0001, kernel=linear;, score=0.524 total time=  14.2s\n",
            "[CV 1/5] END C=1, degree=5, gamma=1, kernel=linear;, score=0.556 total time=  13.8s\n",
            "[CV 2/5] END C=1, degree=5, gamma=1, kernel=linear;, score=0.593 total time=  14.2s\n",
            "[CV 3/5] END C=1, degree=5, gamma=1, kernel=linear;, score=0.574 total time=  14.2s\n",
            "[CV 4/5] END C=1, degree=5, gamma=1, kernel=linear;, score=0.529 total time=  13.8s\n",
            "[CV 5/5] END C=1, degree=5, gamma=1, kernel=linear;, score=0.524 total time=  14.0s\n",
            "[CV 1/5] END C=1, degree=5, gamma=0.1, kernel=linear;, score=0.556 total time=  13.9s\n",
            "[CV 2/5] END C=1, degree=5, gamma=0.1, kernel=linear;, score=0.593 total time=  14.3s\n",
            "[CV 3/5] END C=1, degree=5, gamma=0.1, kernel=linear;, score=0.574 total time=  14.2s\n",
            "[CV 4/5] END C=1, degree=5, gamma=0.1, kernel=linear;, score=0.529 total time=  13.8s\n",
            "[CV 5/5] END C=1, degree=5, gamma=0.1, kernel=linear;, score=0.524 total time=  14.2s\n",
            "[CV 1/5] END C=1, degree=5, gamma=0.01, kernel=linear;, score=0.556 total time=  13.8s\n",
            "[CV 2/5] END C=1, degree=5, gamma=0.01, kernel=linear;, score=0.593 total time=  14.3s\n",
            "[CV 3/5] END C=1, degree=5, gamma=0.01, kernel=linear;, score=0.574 total time=  14.1s\n",
            "[CV 4/5] END C=1, degree=5, gamma=0.01, kernel=linear;, score=0.529 total time=  13.9s\n",
            "[CV 5/5] END C=1, degree=5, gamma=0.01, kernel=linear;, score=0.524 total time=  14.0s\n",
            "[CV 1/5] END C=1, degree=5, gamma=0.001, kernel=linear;, score=0.556 total time=  13.9s\n",
            "[CV 2/5] END C=1, degree=5, gamma=0.001, kernel=linear;, score=0.593 total time=  14.2s\n",
            "[CV 3/5] END C=1, degree=5, gamma=0.001, kernel=linear;, score=0.574 total time=  14.2s\n",
            "[CV 4/5] END C=1, degree=5, gamma=0.001, kernel=linear;, score=0.529 total time=  13.8s\n",
            "[CV 5/5] END C=1, degree=5, gamma=0.001, kernel=linear;, score=0.524 total time=  14.2s\n",
            "[CV 1/5] END C=1, degree=5, gamma=0.0001, kernel=linear;, score=0.556 total time=  13.9s\n",
            "[CV 2/5] END C=1, degree=5, gamma=0.0001, kernel=linear;, score=0.593 total time=  14.3s\n",
            "[CV 3/5] END C=1, degree=5, gamma=0.0001, kernel=linear;, score=0.574 total time=  14.0s\n",
            "[CV 4/5] END C=1, degree=5, gamma=0.0001, kernel=linear;, score=0.529 total time=  13.9s\n",
            "[CV 5/5] END C=1, degree=5, gamma=0.0001, kernel=linear;, score=0.524 total time=  14.1s\n",
            "[CV 1/5] END C=1, degree=6, gamma=1, kernel=linear;, score=0.556 total time=  14.0s\n",
            "[CV 2/5] END C=1, degree=6, gamma=1, kernel=linear;, score=0.593 total time=  14.2s\n",
            "[CV 3/5] END C=1, degree=6, gamma=1, kernel=linear;, score=0.574 total time=  14.2s\n",
            "[CV 4/5] END C=1, degree=6, gamma=1, kernel=linear;, score=0.529 total time=  13.9s\n",
            "[CV 5/5] END C=1, degree=6, gamma=1, kernel=linear;, score=0.524 total time=  14.2s\n",
            "[CV 1/5] END C=1, degree=6, gamma=0.1, kernel=linear;, score=0.556 total time=  13.9s\n",
            "[CV 2/5] END C=1, degree=6, gamma=0.1, kernel=linear;, score=0.593 total time=  14.3s\n",
            "[CV 3/5] END C=1, degree=6, gamma=0.1, kernel=linear;, score=0.574 total time=  14.1s\n",
            "[CV 4/5] END C=1, degree=6, gamma=0.1, kernel=linear;, score=0.529 total time=  13.8s\n",
            "[CV 5/5] END C=1, degree=6, gamma=0.1, kernel=linear;, score=0.524 total time=  14.0s\n",
            "[CV 1/5] END C=1, degree=6, gamma=0.01, kernel=linear;, score=0.556 total time=  13.9s\n",
            "[CV 2/5] END C=1, degree=6, gamma=0.01, kernel=linear;, score=0.593 total time=  14.2s\n",
            "[CV 3/5] END C=1, degree=6, gamma=0.01, kernel=linear;, score=0.574 total time=  14.1s\n",
            "[CV 4/5] END C=1, degree=6, gamma=0.01, kernel=linear;, score=0.529 total time=  13.8s\n",
            "[CV 5/5] END C=1, degree=6, gamma=0.01, kernel=linear;, score=0.524 total time=  14.1s\n",
            "[CV 1/5] END C=1, degree=6, gamma=0.001, kernel=linear;, score=0.556 total time=  13.9s\n",
            "[CV 2/5] END C=1, degree=6, gamma=0.001, kernel=linear;, score=0.593 total time=  14.3s\n",
            "[CV 3/5] END C=1, degree=6, gamma=0.001, kernel=linear;, score=0.574 total time=  14.0s\n",
            "[CV 4/5] END C=1, degree=6, gamma=0.001, kernel=linear;, score=0.529 total time=  13.8s\n",
            "[CV 5/5] END C=1, degree=6, gamma=0.001, kernel=linear;, score=0.524 total time=  14.0s\n",
            "[CV 1/5] END C=1, degree=6, gamma=0.0001, kernel=linear;, score=0.556 total time=  14.0s\n",
            "[CV 2/5] END C=1, degree=6, gamma=0.0001, kernel=linear;, score=0.593 total time=  14.2s\n",
            "[CV 3/5] END C=1, degree=6, gamma=0.0001, kernel=linear;, score=0.574 total time=  14.2s\n",
            "[CV 4/5] END C=1, degree=6, gamma=0.0001, kernel=linear;, score=0.529 total time=  13.7s\n",
            "[CV 5/5] END C=1, degree=6, gamma=0.0001, kernel=linear;, score=0.524 total time=  14.1s\n",
            "[CV 1/5] END C=100, degree=3, gamma=1, kernel=linear;, score=0.498 total time=  39.1s\n",
            "[CV 2/5] END C=100, degree=3, gamma=1, kernel=linear;, score=0.522 total time=  36.0s\n",
            "[CV 3/5] END C=100, degree=3, gamma=1, kernel=linear;, score=0.491 total time=  35.6s\n",
            "[CV 4/5] END C=100, degree=3, gamma=1, kernel=linear;, score=0.469 total time=  38.6s\n",
            "[CV 5/5] END C=100, degree=3, gamma=1, kernel=linear;, score=0.474 total time=  33.7s\n",
            "[CV 1/5] END C=100, degree=3, gamma=0.1, kernel=linear;, score=0.498 total time=  39.2s\n",
            "[CV 2/5] END C=100, degree=3, gamma=0.1, kernel=linear;, score=0.522 total time=  35.9s\n",
            "[CV 3/5] END C=100, degree=3, gamma=0.1, kernel=linear;, score=0.491 total time=  35.7s\n",
            "[CV 4/5] END C=100, degree=3, gamma=0.1, kernel=linear;, score=0.469 total time=  38.7s\n",
            "[CV 5/5] END C=100, degree=3, gamma=0.1, kernel=linear;, score=0.474 total time=  33.9s\n",
            "[CV 1/5] END C=100, degree=3, gamma=0.01, kernel=linear;, score=0.498 total time=  39.4s\n",
            "[CV 2/5] END C=100, degree=3, gamma=0.01, kernel=linear;, score=0.522 total time=  36.2s\n",
            "[CV 3/5] END C=100, degree=3, gamma=0.01, kernel=linear;, score=0.491 total time=  36.1s\n",
            "[CV 4/5] END C=100, degree=3, gamma=0.01, kernel=linear;, score=0.469 total time=  39.1s\n",
            "[CV 5/5] END C=100, degree=3, gamma=0.01, kernel=linear;, score=0.474 total time=  34.0s\n",
            "[CV 1/5] END C=100, degree=3, gamma=0.001, kernel=linear;, score=0.498 total time=  39.4s\n",
            "[CV 2/5] END C=100, degree=3, gamma=0.001, kernel=linear;, score=0.522 total time=  36.0s\n",
            "[CV 3/5] END C=100, degree=3, gamma=0.001, kernel=linear;, score=0.491 total time=  35.9s\n",
            "[CV 4/5] END C=100, degree=3, gamma=0.001, kernel=linear;, score=0.469 total time=  38.7s\n",
            "[CV 5/5] END C=100, degree=3, gamma=0.001, kernel=linear;, score=0.474 total time=  33.9s\n",
            "[CV 1/5] END C=100, degree=3, gamma=0.0001, kernel=linear;, score=0.498 total time=  39.3s\n",
            "[CV 2/5] END C=100, degree=3, gamma=0.0001, kernel=linear;, score=0.522 total time=  36.1s\n",
            "[CV 3/5] END C=100, degree=3, gamma=0.0001, kernel=linear;, score=0.491 total time=  35.8s\n",
            "[CV 4/5] END C=100, degree=3, gamma=0.0001, kernel=linear;, score=0.469 total time=  38.7s\n",
            "[CV 5/5] END C=100, degree=3, gamma=0.0001, kernel=linear;, score=0.474 total time=  33.9s\n",
            "[CV 1/5] END C=100, degree=4, gamma=1, kernel=linear;, score=0.498 total time=  39.5s\n",
            "[CV 2/5] END C=100, degree=4, gamma=1, kernel=linear;, score=0.522 total time=  36.3s\n",
            "[CV 3/5] END C=100, degree=4, gamma=1, kernel=linear;, score=0.491 total time=  36.2s\n",
            "[CV 4/5] END C=100, degree=4, gamma=1, kernel=linear;, score=0.469 total time=  38.9s\n",
            "[CV 5/5] END C=100, degree=4, gamma=1, kernel=linear;, score=0.474 total time=  34.1s\n",
            "[CV 1/5] END C=100, degree=4, gamma=0.1, kernel=linear;, score=0.498 total time=  39.6s\n",
            "[CV 2/5] END C=100, degree=4, gamma=0.1, kernel=linear;, score=0.522 total time=  36.3s\n",
            "[CV 3/5] END C=100, degree=4, gamma=0.1, kernel=linear;, score=0.491 total time=  35.9s\n",
            "[CV 4/5] END C=100, degree=4, gamma=0.1, kernel=linear;, score=0.469 total time=  38.9s\n",
            "[CV 5/5] END C=100, degree=4, gamma=0.1, kernel=linear;, score=0.474 total time=  34.1s\n",
            "[CV 1/5] END C=100, degree=4, gamma=0.01, kernel=linear;, score=0.498 total time=  39.6s\n",
            "[CV 2/5] END C=100, degree=4, gamma=0.01, kernel=linear;, score=0.522 total time=  36.1s\n",
            "[CV 3/5] END C=100, degree=4, gamma=0.01, kernel=linear;, score=0.491 total time=  36.3s\n",
            "[CV 4/5] END C=100, degree=4, gamma=0.01, kernel=linear;, score=0.469 total time=  39.2s\n",
            "[CV 5/5] END C=100, degree=4, gamma=0.01, kernel=linear;, score=0.474 total time=  34.2s\n",
            "[CV 1/5] END C=100, degree=4, gamma=0.001, kernel=linear;, score=0.498 total time=  39.6s\n",
            "[CV 2/5] END C=100, degree=4, gamma=0.001, kernel=linear;, score=0.522 total time=  37.1s\n",
            "[CV 3/5] END C=100, degree=4, gamma=0.001, kernel=linear;, score=0.491 total time=  36.7s\n",
            "[CV 4/5] END C=100, degree=4, gamma=0.001, kernel=linear;, score=0.469 total time=  39.9s\n",
            "[CV 5/5] END C=100, degree=4, gamma=0.001, kernel=linear;, score=0.474 total time=  34.6s\n",
            "[CV 1/5] END C=100, degree=4, gamma=0.0001, kernel=linear;, score=0.498 total time=  41.0s\n",
            "[CV 2/5] END C=100, degree=4, gamma=0.0001, kernel=linear;, score=0.522 total time=  38.1s\n",
            "[CV 3/5] END C=100, degree=4, gamma=0.0001, kernel=linear;, score=0.491 total time=  38.2s\n",
            "[CV 4/5] END C=100, degree=4, gamma=0.0001, kernel=linear;, score=0.469 total time=  40.3s\n",
            "[CV 5/5] END C=100, degree=4, gamma=0.0001, kernel=linear;, score=0.474 total time=  35.6s\n",
            "[CV 1/5] END C=100, degree=5, gamma=1, kernel=linear;, score=0.498 total time=  40.9s\n",
            "[CV 2/5] END C=100, degree=5, gamma=1, kernel=linear;, score=0.522 total time=  37.9s\n",
            "[CV 3/5] END C=100, degree=5, gamma=1, kernel=linear;, score=0.491 total time=  36.7s\n",
            "[CV 4/5] END C=100, degree=5, gamma=1, kernel=linear;, score=0.469 total time=  43.1s\n",
            "[CV 5/5] END C=100, degree=5, gamma=1, kernel=linear;, score=0.474 total time=  37.1s\n",
            "[CV 1/5] END C=100, degree=5, gamma=0.1, kernel=linear;, score=0.498 total time=  42.3s\n",
            "[CV 2/5] END C=100, degree=5, gamma=0.1, kernel=linear;, score=0.522 total time=  37.9s\n",
            "[CV 3/5] END C=100, degree=5, gamma=0.1, kernel=linear;, score=0.491 total time=  38.0s\n",
            "[CV 4/5] END C=100, degree=5, gamma=0.1, kernel=linear;, score=0.469 total time=  41.3s\n",
            "[CV 5/5] END C=100, degree=5, gamma=0.1, kernel=linear;, score=0.474 total time=  37.2s\n",
            "[CV 1/5] END C=100, degree=5, gamma=0.01, kernel=linear;, score=0.498 total time=  44.3s\n",
            "[CV 2/5] END C=100, degree=5, gamma=0.01, kernel=linear;, score=0.522 total time=  40.0s\n",
            "[CV 3/5] END C=100, degree=5, gamma=0.01, kernel=linear;, score=0.491 total time=  40.3s\n",
            "[CV 4/5] END C=100, degree=5, gamma=0.01, kernel=linear;, score=0.469 total time=  42.7s\n",
            "[CV 5/5] END C=100, degree=5, gamma=0.01, kernel=linear;, score=0.474 total time=  37.0s\n",
            "[CV 1/5] END C=100, degree=5, gamma=0.001, kernel=linear;, score=0.498 total time=  42.2s\n",
            "[CV 2/5] END C=100, degree=5, gamma=0.001, kernel=linear;, score=0.522 total time=  38.4s\n",
            "[CV 3/5] END C=100, degree=5, gamma=0.001, kernel=linear;, score=0.491 total time=  37.6s\n",
            "[CV 4/5] END C=100, degree=5, gamma=0.001, kernel=linear;, score=0.469 total time=  40.3s\n",
            "[CV 5/5] END C=100, degree=5, gamma=0.001, kernel=linear;, score=0.474 total time=  36.0s\n",
            "[CV 1/5] END C=100, degree=5, gamma=0.0001, kernel=linear;, score=0.498 total time=  40.9s\n",
            "[CV 2/5] END C=100, degree=5, gamma=0.0001, kernel=linear;, score=0.522 total time=  36.7s\n",
            "[CV 3/5] END C=100, degree=5, gamma=0.0001, kernel=linear;, score=0.491 total time=  36.9s\n",
            "[CV 4/5] END C=100, degree=5, gamma=0.0001, kernel=linear;, score=0.469 total time=  39.3s\n",
            "[CV 5/5] END C=100, degree=5, gamma=0.0001, kernel=linear;, score=0.474 total time=  34.5s\n",
            "[CV 1/5] END C=100, degree=6, gamma=1, kernel=linear;, score=0.498 total time=  40.2s\n",
            "[CV 2/5] END C=100, degree=6, gamma=1, kernel=linear;, score=0.522 total time=  37.3s\n",
            "[CV 3/5] END C=100, degree=6, gamma=1, kernel=linear;, score=0.491 total time=  37.8s\n",
            "[CV 4/5] END C=100, degree=6, gamma=1, kernel=linear;, score=0.469 total time=  41.4s\n",
            "[CV 5/5] END C=100, degree=6, gamma=1, kernel=linear;, score=0.474 total time=  35.2s\n",
            "[CV 1/5] END C=100, degree=6, gamma=0.1, kernel=linear;, score=0.498 total time=  41.6s\n",
            "[CV 2/5] END C=100, degree=6, gamma=0.1, kernel=linear;, score=0.522 total time=  39.8s\n",
            "[CV 3/5] END C=100, degree=6, gamma=0.1, kernel=linear;, score=0.491 total time=  39.1s\n",
            "[CV 4/5] END C=100, degree=6, gamma=0.1, kernel=linear;, score=0.469 total time=  40.0s\n",
            "[CV 5/5] END C=100, degree=6, gamma=0.1, kernel=linear;, score=0.474 total time=  34.6s\n",
            "[CV 1/5] END C=100, degree=6, gamma=0.01, kernel=linear;, score=0.498 total time=  40.9s\n",
            "[CV 2/5] END C=100, degree=6, gamma=0.01, kernel=linear;, score=0.522 total time=  37.6s\n"
          ]
        }
      ]
    },
    {
      "cell_type": "markdown",
      "metadata": {
        "id": "s1Gs3YM7Ix-1"
      },
      "source": [
        "# Gradient Boosting"
      ]
    },
    {
      "cell_type": "code",
      "metadata": {
        "colab": {
          "base_uri": "https://localhost:8080/",
          "height": 70
        },
        "id": "ONV1QT5XITX2",
        "outputId": "04ca8855-eb71-4203-da87-52f32152fd09"
      },
      "source": [
        "from sklearn.ensemble import GradientBoostingClassifier\n",
        "gbc = GradientBoostingClassifier(n_estimators=1000, validation_fraction=0.2, n_iter_no_change=10, tol=0.01, random_state=0, verbose=0 )\n",
        "scores = cross_validate(gbc, X_train, Y_train, cv=5, return_train_score=False, n_jobs=-1)\n",
        "print(\"cv test score\",scores['test_score'].mean())\n",
        "gbc.fit(X_train, Y_train)\n",
        "'''\n",
        "y_pred = gbc.predict(X_test)\n",
        "print('accuracy %s' % accuracy_score(Y_test, y_pred))\n",
        "print(classification_report(Y_test, y_pred))\n",
        "print(confusion_matrix(Y_test, y_pred))\n",
        "'''"
      ],
      "execution_count": null,
      "outputs": [
        {
          "output_type": "stream",
          "name": "stdout",
          "text": [
            "cv test score 0.5007070947534513\n"
          ]
        },
        {
          "output_type": "execute_result",
          "data": {
            "application/vnd.google.colaboratory.intrinsic+json": {
              "type": "string"
            },
            "text/plain": [
              "\"\\ny_pred = gbc.predict(X_test)\\nprint('accuracy %s' % accuracy_score(Y_test, y_pred))\\nprint(classification_report(Y_test, y_pred))\\nprint(confusion_matrix(Y_test, y_pred))\\n\""
            ]
          },
          "metadata": {},
          "execution_count": 97
        }
      ]
    },
    {
      "cell_type": "code",
      "metadata": {
        "colab": {
          "base_uri": "https://localhost:8080/"
        },
        "id": "TS7EJvAtq0tC",
        "outputId": "4ac7452a-c79c-43b7-a672-cee9a7e32bce"
      },
      "source": [
        "from sklearn.model_selection import learning_curve, GridSearchCV\n",
        "\n",
        "parameters = {\n",
        "    \"vect__max_df\": (0.5, 0.75, 1.0),\n",
        "    'vect__max_features': (None, 5000, 10000, 50000),\n",
        "    \"vect__ngram_range\": ((1, 1), (1, 2)),  # unigrams or bigrams\n",
        "    # 'tfidf__use_idf': (True, False),\n",
        "    # 'tfidf__norm': ('l1', 'l2'),\n",
        "    #\"clf__max_iter\": (20,),\n",
        "    \"clf__alpha\": (1, 0.1, 0.001, 0.0001, 0.00001, 0.000001),\n",
        "    \"clf__penalty\": (\"l2\", \"elasticnet\"),\n",
        "    'clf__max_iter': (5, 10, 20, 50, 80),\n",
        "}\n",
        "\n",
        "pipeline = Pipeline([('vect', CountVectorizer()),\n",
        "                ('tfidf', TfidfTransformer()),\n",
        "                ('clf', SGDClassifier())\n",
        "               ])\n",
        "\n",
        "grid_search = GridSearchCV(pipeline, parameters, n_jobs=-1, verbose=1)\n",
        "grid_search.fit(X_train, Y_train)\n",
        "best_parameters = grid_search.best_estimator_.get_params()\n",
        "\n",
        "for param_name in sorted(parameters.keys()):\n",
        "    print(\"\\t%s: %r\" % (param_name, best_parameters[param_name]))"
      ],
      "execution_count": null,
      "outputs": [
        {
          "output_type": "stream",
          "name": "stdout",
          "text": [
            "Fitting 5 folds for each of 1440 candidates, totalling 7200 fits\n",
            "\tclf__alpha: 0.0001\n",
            "\tclf__max_iter: 5\n",
            "\tclf__penalty: 'elasticnet'\n",
            "\tvect__max_df: 1.0\n",
            "\tvect__max_features: 50000\n",
            "\tvect__ngram_range: (1, 2)\n"
          ]
        }
      ]
    },
    {
      "cell_type": "code",
      "metadata": {
        "colab": {
          "base_uri": "https://localhost:8080/"
        },
        "id": "CJY9E1q00cQR",
        "outputId": "0f71fa34-8387-4d32-9e91-4cda5bcc023e"
      },
      "source": [
        "grid_search.score(X_test, Y_test)"
      ],
      "execution_count": null,
      "outputs": [
        {
          "output_type": "execute_result",
          "data": {
            "text/plain": [
              "0.5960088691796009"
            ]
          },
          "metadata": {},
          "execution_count": 94
        }
      ]
    },
    {
      "cell_type": "markdown",
      "metadata": {
        "id": "mF7HbXPTAr7l"
      },
      "source": [
        "# DEEP LEARNING MODELS"
      ]
    },
    {
      "cell_type": "code",
      "metadata": {
        "id": "OWzkVj_2D286"
      },
      "source": [
        "from keras.preprocessing.text import Tokenizer\n",
        "max_words = 10000\n",
        "max_len = 150\n",
        "tokenize = Tokenizer(num_words=max_words, char_level=False)\n",
        "tokenize.fit_on_texts(train_data['tweet_without_stopwords']) \n",
        "sequences = tokenize.texts_to_sequences(train_data['tweet_without_stopwords'])\n",
        "data = pad_sequences(sequences, maxlen=max_len)"
      ],
      "execution_count": null,
      "outputs": []
    },
    {
      "cell_type": "code",
      "metadata": {
        "id": "Gz2ODO5h085E"
      },
      "source": [
        "from keras.preprocessing.text import Tokenizer\n",
        "max_words = 12000\n",
        "max_len = 150\n",
        "tokenize = Tokenizer(num_words=max_words, char_level=False)\n",
        "tokenize.fit_on_texts(train_data['tweets_wo_freq_words']) \n",
        "sequences = tokenize.texts_to_sequences(train_data['tweets_wo_freq_words'])\n",
        "data = pad_sequences(sequences, maxlen=max_len)"
      ],
      "execution_count": null,
      "outputs": []
    },
    {
      "cell_type": "code",
      "metadata": {
        "id": "twhWK1wQ3ZmE"
      },
      "source": [
        "labels = tf.keras.utils.to_categorical(train_data['class'], 3, dtype=\"float32\")"
      ],
      "execution_count": null,
      "outputs": []
    },
    {
      "cell_type": "code",
      "metadata": {
        "id": "gKKZznMrDEZ2"
      },
      "source": [
        "from sklearn.model_selection import train_test_split\n",
        "X_train,X_test,Y_train,Y_test = train_test_split(data, labels, test_size=0.2)"
      ],
      "execution_count": null,
      "outputs": []
    },
    {
      "cell_type": "code",
      "metadata": {
        "colab": {
          "base_uri": "https://localhost:8080/"
        },
        "id": "bayi77hFNhV_",
        "outputId": "337f5694-25fb-4e41-a256-0b0c534df2ea"
      },
      "source": [
        "X_train.shape"
      ],
      "execution_count": null,
      "outputs": [
        {
          "output_type": "execute_result",
          "data": {
            "text/plain": [
              "(9017, 150)"
            ]
          },
          "metadata": {},
          "execution_count": 103
        }
      ]
    },
    {
      "cell_type": "code",
      "metadata": {
        "colab": {
          "base_uri": "https://localhost:8080/"
        },
        "id": "Leq8MmWjNjda",
        "outputId": "c438ecd6-1a54-46d2-98cc-a262e5244757"
      },
      "source": [
        "Y_train.shape"
      ],
      "execution_count": null,
      "outputs": [
        {
          "output_type": "execute_result",
          "data": {
            "text/plain": [
              "(9017, 3)"
            ]
          },
          "metadata": {},
          "execution_count": 104
        }
      ]
    },
    {
      "cell_type": "markdown",
      "source": [
        "# ANN"
      ],
      "metadata": {
        "id": "llr_EwdVop9p"
      }
    },
    {
      "cell_type": "code",
      "metadata": {
        "id": "S69i4tfZFfxk",
        "colab": {
          "base_uri": "https://localhost:8080/"
        },
        "outputId": "4f62736d-9863-46c7-f9f7-1f325536cfc1"
      },
      "source": [
        "# simple NN\n",
        "\n",
        "batch_size = 32\n",
        "max_len = 150\n",
        "model = Sequential()\n",
        "model.add(Dense(512, input_shape=(max_len,)))\n",
        "model.add(Activation('relu'))\n",
        "model.add(Dropout(0.5))\n",
        "model.add(Dense(100, activation='relu'))\n",
        "model.add(Dropout(0.5))\n",
        "model.add(Dense(3))\n",
        "model.add(Activation('softmax'))\n",
        "\n",
        "model.compile(loss='categorical_crossentropy',\n",
        "              optimizer='adam',\n",
        "              metrics=['accuracy'])\n",
        "              \n",
        "history = model.fit(X_train, Y_train,\n",
        "                    batch_size=batch_size,\n",
        "                    epochs=20,\n",
        "                    verbose=1,\n",
        "                    validation_split=0.1)"
      ],
      "execution_count": null,
      "outputs": [
        {
          "output_type": "stream",
          "name": "stdout",
          "text": [
            "Epoch 1/20\n",
            "254/254 [==============================] - 3s 5ms/step - loss: 65.9411 - accuracy: 0.3667 - val_loss: 1.0850 - val_accuracy: 0.4457\n",
            "Epoch 2/20\n",
            "254/254 [==============================] - 1s 4ms/step - loss: 2.1368 - accuracy: 0.4218 - val_loss: 1.0753 - val_accuracy: 0.4457\n",
            "Epoch 3/20\n",
            "254/254 [==============================] - 1s 5ms/step - loss: 1.4305 - accuracy: 0.4267 - val_loss: 1.0711 - val_accuracy: 0.4457\n",
            "Epoch 4/20\n",
            "254/254 [==============================] - 1s 5ms/step - loss: 1.1974 - accuracy: 0.4313 - val_loss: 1.0703 - val_accuracy: 0.4457\n",
            "Epoch 5/20\n",
            "254/254 [==============================] - 1s 4ms/step - loss: 1.2827 - accuracy: 0.4315 - val_loss: 1.0704 - val_accuracy: 0.4457\n",
            "Epoch 6/20\n",
            "254/254 [==============================] - 1s 4ms/step - loss: 1.1448 - accuracy: 0.4330 - val_loss: 1.0705 - val_accuracy: 0.4457\n",
            "Epoch 7/20\n",
            "254/254 [==============================] - 1s 4ms/step - loss: 1.1211 - accuracy: 0.4325 - val_loss: 1.0705 - val_accuracy: 0.4457\n",
            "Epoch 8/20\n",
            "254/254 [==============================] - 1s 4ms/step - loss: 1.1187 - accuracy: 0.4331 - val_loss: 1.0704 - val_accuracy: 0.4457\n",
            "Epoch 9/20\n",
            "254/254 [==============================] - 1s 4ms/step - loss: 1.0881 - accuracy: 0.4320 - val_loss: 1.0706 - val_accuracy: 0.4457\n",
            "Epoch 10/20\n",
            "254/254 [==============================] - 1s 4ms/step - loss: 1.0891 - accuracy: 0.4327 - val_loss: 1.0704 - val_accuracy: 0.4457\n",
            "Epoch 11/20\n",
            "254/254 [==============================] - 1s 4ms/step - loss: 1.0732 - accuracy: 0.4328 - val_loss: 1.0706 - val_accuracy: 0.4457\n",
            "Epoch 12/20\n",
            "254/254 [==============================] - 1s 4ms/step - loss: 1.0962 - accuracy: 0.4323 - val_loss: 1.0705 - val_accuracy: 0.4457\n",
            "Epoch 13/20\n",
            "254/254 [==============================] - 1s 4ms/step - loss: 1.0854 - accuracy: 0.4329 - val_loss: 1.0705 - val_accuracy: 0.4457\n",
            "Epoch 14/20\n",
            "254/254 [==============================] - 1s 4ms/step - loss: 1.0864 - accuracy: 0.4328 - val_loss: 1.0705 - val_accuracy: 0.4457\n",
            "Epoch 15/20\n",
            "254/254 [==============================] - 1s 4ms/step - loss: 1.0850 - accuracy: 0.4328 - val_loss: 1.0705 - val_accuracy: 0.4457\n",
            "Epoch 16/20\n",
            "254/254 [==============================] - 1s 5ms/step - loss: 1.0812 - accuracy: 0.4328 - val_loss: 1.0704 - val_accuracy: 0.4457\n",
            "Epoch 17/20\n",
            "254/254 [==============================] - 1s 4ms/step - loss: 1.0890 - accuracy: 0.4331 - val_loss: 1.0704 - val_accuracy: 0.4457\n",
            "Epoch 18/20\n",
            "254/254 [==============================] - 1s 4ms/step - loss: 1.0723 - accuracy: 0.4329 - val_loss: 1.0704 - val_accuracy: 0.4457\n",
            "Epoch 19/20\n",
            "254/254 [==============================] - 1s 4ms/step - loss: 1.0803 - accuracy: 0.4328 - val_loss: 1.0705 - val_accuracy: 0.4457\n",
            "Epoch 20/20\n",
            "254/254 [==============================] - 1s 4ms/step - loss: 1.0993 - accuracy: 0.4329 - val_loss: 1.0703 - val_accuracy: 0.4457\n"
          ]
        }
      ]
    },
    {
      "cell_type": "code",
      "metadata": {
        "colab": {
          "base_uri": "https://localhost:8080/"
        },
        "id": "zmfYrM8vC1lo",
        "outputId": "38d6af64-89be-41c3-e823-18a0940509e7"
      },
      "source": [
        "score = model.evaluate(X_test, Y_test,\n",
        "                       batch_size=batch_size, verbose=1)\n",
        "print('Test accuracy:', score[1])"
      ],
      "execution_count": null,
      "outputs": [
        {
          "output_type": "stream",
          "name": "stdout",
          "text": [
            "71/71 [==============================] - 0s 3ms/step - loss: 1.0797 - accuracy: 0.4195\n",
            "Test accuracy: 0.41951218247413635\n"
          ]
        }
      ]
    },
    {
      "cell_type": "code",
      "metadata": {
        "id": "adN9dvPXBpq9"
      },
      "source": [
        "'''\n",
        "def tensorflow_based_model(): #Defined tensorflow_based_model function for training tenforflow based model\n",
        "    inputs = Input(name='inputs',shape=[max_len])#step1\n",
        "    layer = Embedding(2000,50,input_length=max_len)(inputs) #step2\n",
        "    layer = LSTM(64)(layer) #step3\n",
        "    layer = Dense(256,name='FC1')(layer) #step4\n",
        "    layer = Activation('relu')(layer) # step5\n",
        "    layer = Dropout(0.5)(layer) # step6\n",
        "    layer = Dense(1,name='out_layer')(layer) #step4 again but this time its giving only one output as because we need to classify the tweet as positive or negative\n",
        "    layer = Activation('sigmoid')(layer) #step5 but this time activation function is sigmoid for only one output.\n",
        "    model = Model(inputs=inputs,outputs=layer) #here we are getting the final output value in the model for classification\n",
        "    return model #function returning the value when we call it\n",
        "'''"
      ],
      "execution_count": null,
      "outputs": []
    },
    {
      "cell_type": "markdown",
      "source": [
        "# BiDirectional LSTM"
      ],
      "metadata": {
        "id": "Am35vWmdovIL"
      }
    },
    {
      "cell_type": "code",
      "metadata": {
        "colab": {
          "base_uri": "https://localhost:8080/"
        },
        "id": "kBeLZZW8iqgY",
        "outputId": "d723d04e-e28f-4672-be85-1afc20e8f4f2"
      },
      "source": [
        "#BiDirectional LSTM\n",
        "\n",
        "batch_size = 32\n",
        "epochs = 100\n",
        "max_len = 150\n",
        "model = Sequential()\n",
        "model.add(Embedding(3000, 128, input_length=max_len))\n",
        "model.add(Bidirectional(LSTM(64)))\n",
        "model.add(Dropout(0.5))\n",
        "model.add(Dense(3, activation='softmax'))\n",
        "\n",
        "model.compile(loss='binary_crossentropy', optimizer='adam', metrics=['accuracy'])\n",
        "\n",
        "earlyStopping = EarlyStopping(monitor='val_loss', patience=10, verbose=1, mode='min')\n",
        "mcp_save = ModelCheckpoint('BiLstm.hdf5', save_best_only=True, monitor='val_loss', mode='min')\n",
        "reduce_lr_loss = ReduceLROnPlateau(monitor='val_loss', factor=0.1, patience=7, verbose=2, epsilon=1e-4, mode='min')\n",
        "callbacks=[earlyStopping,reduce_lr_loss,mcp_save]\n",
        "\n",
        "model.fit(X_train, Y_train, batch_size=batch_size, epochs=epochs, validation_data = (X_test, Y_test), callbacks = callbacks)"
      ],
      "execution_count": null,
      "outputs": [
        {
          "output_type": "stream",
          "name": "stdout",
          "text": [
            "WARNING:tensorflow:`epsilon` argument is deprecated and will be removed, use `min_delta` instead.\n",
            "Epoch 1/100\n",
            "282/282 [==============================] - 25s 77ms/step - loss: 0.5936 - accuracy: 0.4952 - val_loss: 0.5516 - val_accuracy: 0.5761 - lr: 0.0010\n",
            "Epoch 2/100\n",
            "282/282 [==============================] - 21s 74ms/step - loss: 0.5087 - accuracy: 0.6234 - val_loss: 0.5333 - val_accuracy: 0.5849 - lr: 0.0010\n",
            "Epoch 3/100\n",
            "282/282 [==============================] - 21s 74ms/step - loss: 0.4488 - accuracy: 0.6871 - val_loss: 0.5520 - val_accuracy: 0.5765 - lr: 0.0010\n",
            "Epoch 4/100\n",
            "282/282 [==============================] - 21s 74ms/step - loss: 0.4082 - accuracy: 0.7261 - val_loss: 0.5772 - val_accuracy: 0.5778 - lr: 0.0010\n",
            "Epoch 5/100\n",
            "282/282 [==============================] - 21s 73ms/step - loss: 0.3745 - accuracy: 0.7555 - val_loss: 0.5978 - val_accuracy: 0.5685 - lr: 0.0010\n",
            "Epoch 6/100\n",
            "282/282 [==============================] - 21s 73ms/step - loss: 0.3359 - accuracy: 0.7847 - val_loss: 0.6575 - val_accuracy: 0.5623 - lr: 0.0010\n",
            "Epoch 7/100\n",
            "282/282 [==============================] - 21s 74ms/step - loss: 0.2983 - accuracy: 0.8098 - val_loss: 0.7511 - val_accuracy: 0.5525 - lr: 0.0010\n",
            "Epoch 8/100\n",
            "282/282 [==============================] - 21s 73ms/step - loss: 0.2678 - accuracy: 0.8330 - val_loss: 0.8256 - val_accuracy: 0.5521 - lr: 0.0010\n",
            "Epoch 9/100\n",
            "282/282 [==============================] - ETA: 0s - loss: 0.2411 - accuracy: 0.8504\n",
            "Epoch 00009: ReduceLROnPlateau reducing learning rate to 0.00010000000474974513.\n",
            "282/282 [==============================] - 21s 73ms/step - loss: 0.2411 - accuracy: 0.8504 - val_loss: 0.8569 - val_accuracy: 0.5477 - lr: 0.0010\n",
            "Epoch 10/100\n",
            "282/282 [==============================] - 21s 73ms/step - loss: 0.1898 - accuracy: 0.8884 - val_loss: 0.9289 - val_accuracy: 0.5557 - lr: 1.0000e-04\n",
            "Epoch 11/100\n",
            "282/282 [==============================] - 21s 73ms/step - loss: 0.1751 - accuracy: 0.8952 - val_loss: 0.9731 - val_accuracy: 0.5543 - lr: 1.0000e-04\n",
            "Epoch 12/100\n",
            "282/282 [==============================] - 21s 73ms/step - loss: 0.1681 - accuracy: 0.9001 - val_loss: 1.0058 - val_accuracy: 0.5561 - lr: 1.0000e-04\n",
            "Epoch 00012: early stopping\n"
          ]
        },
        {
          "output_type": "execute_result",
          "data": {
            "text/plain": [
              "<keras.callbacks.History at 0x7f0c092f3790>"
            ]
          },
          "metadata": {},
          "execution_count": 118
        }
      ]
    },
    {
      "cell_type": "code",
      "metadata": {
        "colab": {
          "base_uri": "https://localhost:8080/"
        },
        "id": "Lb5LylAwD3Ag",
        "outputId": "605f9126-ed1e-47cc-ad07-99d1793c47a2"
      },
      "source": [
        "score = model.evaluate(X_test, Y_test,\n",
        "                       batch_size=batch_size, verbose=1)\n",
        "print('Test accuracy:', score[1])"
      ],
      "execution_count": null,
      "outputs": [
        {
          "output_type": "stream",
          "name": "stdout",
          "text": [
            "71/71 [==============================] - 2s 23ms/step - loss: 1.0058 - accuracy: 0.5561\n",
            "Test accuracy: 0.5560975670814514\n"
          ]
        }
      ]
    },
    {
      "cell_type": "code",
      "metadata": {
        "id": "7tuQ8XISDoOl"
      },
      "source": [
        "from google.colab import files\n",
        "files.download('my_best_model.hdf5')"
      ],
      "execution_count": null,
      "outputs": []
    },
    {
      "cell_type": "code",
      "metadata": {
        "id": "NoY-qtMakH3y"
      },
      "source": [
        "from google.colab import files\n",
        "files.upload()"
      ],
      "execution_count": null,
      "outputs": []
    },
    {
      "cell_type": "markdown",
      "metadata": {
        "id": "fkOdgvL_vRSe"
      },
      "source": [
        "# Transfer learning"
      ]
    },
    {
      "cell_type": "code",
      "metadata": {
        "id": "ME7oGb_mvQSl"
      },
      "source": [
        "import tensorflow_hub as hub\n",
        "module_url = \"https://tfhub.dev/google/universal-sentence-encoder/4\"\n",
        "embed = hub.KerasLayer(module_url, trainable=False, name='USE_embedding')\n",
        "def build_model(embed):\n",
        "    model = Sequential([\n",
        "        Input(shape=(max_len,), dtype=tf.string),\n",
        "        embed,\n",
        "        Dense(1024, activation='elu'),\n",
        "        BatchNormalization(),\n",
        "        Dropout(0.5),\n",
        "        Dense(512, activation='elu'),\n",
        "        BatchNormalization(),\n",
        "        Dropout(0.35),\n",
        "        Dense(256, activation='relu'),\n",
        "        BatchNormalization(),\n",
        "        Dropout(0.1),\n",
        "        Dense(3, activation='softmax')\n",
        "    ])\n",
        "    \n",
        "    optimizer = tf.keras.optimizers.Adam(lr = 0.001)\n",
        "    model.compile(optimizer, loss='binary_crossentropy', metrics=['accuracy'])\n",
        "    \n",
        "    return model\n",
        "    \n",
        "model = build_model(embed)\n",
        "model.summary()"
      ],
      "execution_count": null,
      "outputs": []
    },
    {
      "cell_type": "code",
      "metadata": {
        "id": "jQ75IiXrvtst"
      },
      "source": [
        "history = model.fit(\n",
        "    X_train, Y_train,\n",
        "    validation_data=(X_test,Y_test),\n",
        "    epochs=35,\n",
        "    callbacks=[earlyStopping,reduce_lr_loss,mcp_save],\n",
        "    batch_size= 32 \n",
        ")"
      ],
      "execution_count": null,
      "outputs": []
    },
    {
      "cell_type": "code",
      "metadata": {
        "id": "_BIoJudh7QwZ"
      },
      "source": [
        "# TCN\n",
        "\n",
        "def tcn_model(kernel_size = 3, activation='relu', input_dim = None, \n",
        "                   output_dim=300, max_length = None, emb_matrix = None):\n",
        "    \n",
        "    inp = Input( shape=(max_length,))\n",
        "    x = Embedding(input_dim=input_dim, \n",
        "                  output_dim=output_dim, \n",
        "                  input_length=max_length,\n",
        "                  # Assign the embedding weight with word2vec embedding marix\n",
        "                  weights = [emb_matrix],\n",
        "                  # Set the weight to be not trainable (static)\n",
        "                  trainable = False)(inp)\n",
        "    \n",
        "    x = SpatialDropout1D(0.1)(x)\n",
        "    \n",
        "    x = TCN(128,dilations = [1, 2, 4], return_sequences=True, activation = activation, name = 'tcn1')(x)\n",
        "    x = TCN(64,dilations = [1, 2, 4], return_sequences=True, activation = activation, name = 'tcn2')(x)\n",
        "    \n",
        "    avg_pool = GlobalAveragePooling1D()(x)\n",
        "    max_pool = GlobalMaxPooling1D()(x)\n",
        "    \n",
        "    conc = concatenate([avg_pool, max_pool])\n",
        "    conc = Dense(16, activation=\"relu\")(conc)\n",
        "    conc = Dropout(0.1)(conc)\n",
        "    outp = Dense(3, activation=\"softmax\")(conc)    \n",
        "\n",
        "    model = Model(inputs=inp, outputs=outp)\n",
        "    model.compile( loss = 'binary_crossentropy', optimizer = 'adam', metrics = ['accuracy'])\n",
        "    \n",
        "    return model"
      ],
      "execution_count": null,
      "outputs": []
    },
    {
      "cell_type": "code",
      "metadata": {
        "id": "WZrt8Y2rAsd0"
      },
      "source": [
        "model = tcn_model(kernel_size = 3, activation='relu', input_dim = 2000, output_dim=300, max_length = 12000, emb_matrix = None)\n",
        "model.compile(loss='binary_crossentropy', optimizer='adam', metrics=['accuracy'])\n",
        "\n",
        "earlyStopping = EarlyStopping(monitor='val_loss', patience=10, verbose=1, mode='min')\n",
        "mcp_save = ModelCheckpoint('Transfer_model.hdf5', save_best_only=True, monitor='val_loss', mode='min')\n",
        "reduce_lr_loss = ReduceLROnPlateau(monitor='val_loss', factor=0.1, patience=7, verbose=2, epsilon=1e-4, mode='min')\n",
        "callbacks=[earlyStopping,reduce_lr_loss,mcp_save]\n",
        "\n",
        "model.fit(X_train, Y_train, batch_size=batch_size, epochs=epochs, validation_data = (X_test, Y_test), callbacks = callbacks)"
      ],
      "execution_count": null,
      "outputs": []
    },
    {
      "cell_type": "markdown",
      "source": [
        "#Model Comparision"
      ],
      "metadata": {
        "id": "UfdZEIiG7oHQ"
      }
    },
    {
      "cell_type": "code",
      "source": [
        "import matplotlib.pyplot as plt"
      ],
      "metadata": {
        "id": "7VEPHAxP_bzx"
      },
      "execution_count": null,
      "outputs": []
    },
    {
      "cell_type": "code",
      "source": [
        "models = ['Logistic Regression', 'SGD classifier', 'Naive bayes', 'Random Forest', 'XGBoost', 'SVM', 'Gradient Boost', 'GridSearchCV', 'Feed forward network', 'Bi-directional LSTM']\n",
        "acc = [60, 53, 52, 55, 55, 55.5, 50, 59.6, 41, 55]\n",
        "plt.barh(models, acc, align='center')"
      ],
      "metadata": {
        "colab": {
          "base_uri": "https://localhost:8080/",
          "height": 283
        },
        "id": "u6iZhH-l7sSO",
        "outputId": "c257639b-7f2f-4ed5-9441-e95be1e93381"
      },
      "execution_count": null,
      "outputs": [
        {
          "output_type": "execute_result",
          "data": {
            "text/plain": [
              "<BarContainer object of 10 artists>"
            ]
          },
          "metadata": {},
          "execution_count": 4
        },
        {
          "output_type": "display_data",
          "data": {
            "image/png": "[encoded data removed]",
            "text/plain": [
              "<Figure size 432x288 with 1 Axes>"
            ]
          },
          "metadata": {
            "needs_background": "light"
          }
        }
      ]
    }
  ]
}